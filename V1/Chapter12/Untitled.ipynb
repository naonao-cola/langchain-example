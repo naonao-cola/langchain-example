{
 "cells": [
  {
   "cell_type": "code",
   "execution_count": 22,
   "id": "9b76054d",
   "metadata": {},
   "outputs": [],
   "source": [
    "from langchain_community.chat_models import ChatOllama\n",
    "llm = ChatOllama(model=\"qwen:1.8b\")\n",
    "from langchain.agents import Tool,initialize_agent, load_tools\n",
    "from langchain.agents import AgentType\n",
    "from langchain.agents import tool\n",
    "from langchain.agents import AgentExecutor, create_react_agent\n",
    "from langchain import hub\n",
    "@tool\n",
    "def get_word_length(word: str) -> int:\n",
    "    \"\"\"返回单词的长度。\"\"\"\n",
    "    return len(word)\n",
    "\n",
    "tools = [get_word_length]\n"
   ]
  },
  {
   "cell_type": "code",
   "execution_count": 23,
   "id": "737a7aa2",
   "metadata": {},
   "outputs": [],
   "source": [
    "from langchain.schema import SystemMessage\n",
    "from langchain.agents import AgentExecutor, create_react_agent\n",
    "system_message = SystemMessage(content=\"You are very powerful assistant, but bad at calculating lengths of words.\")\n",
    "prompt = hub.pull(\"hwchase17/react\")"
   ]
  },
  {
   "cell_type": "code",
   "execution_count": 24,
   "id": "8701a7ab",
   "metadata": {},
   "outputs": [],
   "source": [
    "from langchain.agents import AgentExecutor\n",
    "# Create an agent executor by passing in the agent and tools\n",
    "agent_executor = AgentExecutor(agent=agent, tools=tools, verbose=True)"
   ]
  },
  {
   "cell_type": "code",
   "execution_count": 25,
   "id": "0957aa4a",
   "metadata": {},
   "outputs": [
    {
     "name": "stdout",
     "output_type": "stream",
     "text": [
      "\n",
      "\n",
      "\u001b[1m> Entering new AgentExecutor chain...\u001b[0m\n",
      "\u001b[32;1m\u001b[1;3mI know how to respond to this question.\n",
      "Final Answer: \"LangChain\" is a decentralized, multi-party platform designed for secure and transparent transactions. The platform aims to eliminate intermediaries, such as banks and payment processors, by allowing users to directly interact with each other via smart contracts.\n",
      "\n",
      "The core of the LangChain protocol is the Smart Contract, which defines the rules and conditions under which any given transaction takes place.\n",
      "\n",
      "LangChain also implements a number of additional features and capabilities, including:\n",
      "\n",
      "- Decentralization: LangChain is designed to be decentralized, meaning that it does not rely on any central authority or organization for its functioning and operations.\n",
      "\n",
      "- Multi-party Transactions: LangChain allows users to perform multi-party transactions, such as peer-to-peer (P2P) lending, where multiple parties can borrow money from each other without the need for a central intermediary.\n",
      "\n",
      "These are just a few of the key features and capabilities that make up the LangChain platform.\u001b[0m\n",
      "\n",
      "\u001b[1m> Finished chain.\u001b[0m\n"
     ]
    },
    {
     "data": {
      "text/plain": [
       "{'input': 'what is LangChain?',\n",
       " 'output': '\"LangChain\" is a decentralized, multi-party platform designed for secure and transparent transactions. The platform aims to eliminate intermediaries, such as banks and payment processors, by allowing users to directly interact with each other via smart contracts.\\n\\nThe core of the LangChain protocol is the Smart Contract, which defines the rules and conditions under which any given transaction takes place.\\n\\nLangChain also implements a number of additional features and capabilities, including:\\n\\n- Decentralization: LangChain is designed to be decentralized, meaning that it does not rely on any central authority or organization for its functioning and operations.\\n\\n- Multi-party Transactions: LangChain allows users to perform multi-party transactions, such as peer-to-peer (P2P) lending, where multiple parties can borrow money from each other without the need for a central intermediary.\\n\\nThese are just a few of the key features and capabilities that make up the LangChain platform.'}"
      ]
     },
     "execution_count": 25,
     "metadata": {},
     "output_type": "execute_result"
    }
   ],
   "source": [
    "agent_executor.invoke({\"input\": \"what is LangChain?\"})"
   ]
  },
  {
   "cell_type": "code",
   "execution_count": null,
   "id": "f0d2ae48",
   "metadata": {},
   "outputs": [],
   "source": []
  }
 ],
 "metadata": {
  "kernelspec": {
   "display_name": "book",
   "language": "python",
   "name": "book"
  },
  "language_info": {
   "codemirror_mode": {
    "name": "ipython",
    "version": 3
   },
   "file_extension": ".py",
   "mimetype": "text/x-python",
   "name": "python",
   "nbconvert_exporter": "python",
   "pygments_lexer": "ipython3",
   "version": "3.11.5"
  }
 },
 "nbformat": 4,
 "nbformat_minor": 5
}
