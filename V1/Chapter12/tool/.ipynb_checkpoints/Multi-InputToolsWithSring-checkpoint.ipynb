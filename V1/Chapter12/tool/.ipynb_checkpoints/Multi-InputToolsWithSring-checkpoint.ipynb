{
 "cells": [
  {
   "cell_type": "code",
   "execution_count": 4,
   "id": "4d5f18ce",
   "metadata": {},
   "outputs": [
    {
     "name": "stdout",
     "output_type": "stream",
     "text": [
      "\n",
      "\n",
      "\u001b[1m> Entering new AgentExecutor chain...\u001b[0m\n",
      "\u001b[32;1m\u001b[1;3m 我们可以使用数学加法公式来解决这个问题。公式是：3 + 4 = 7。\n",
      " \n",
      "Final Answer: 3 + 4 等于 7。\u001b[0m\n",
      "\n",
      "\u001b[1m> Finished chain.\u001b[0m\n"
     ]
    },
    {
     "data": {
      "text/plain": [
       "'3 + 4 等于 7。'"
      ]
     },
     "execution_count": 4,
     "metadata": {},
     "output_type": "execute_result"
    }
   ],
   "source": [
    "from langchain_community.llms import Ollama\n",
    "from langchain.agents import initialize_agent, Tool\n",
    "from langchain.agents import AgentType\n",
    "def multiplier(a, b):\n",
    "    return a + b\n",
    "\n",
    "def parsing_multiplier(string):\n",
    "    a, b = string.split(\",\")\n",
    "    return multiplier(int(a), int(b))\n",
    "llm = Ollama(model=\"qwen:1.8b\")\n",
    " \n",
    "tools = [\n",
    "    Tool(\n",
    "        name=\"Multiplier\",\n",
    "        func=parsing_multiplier,\n",
    "        description=\"该工具的输入应该是一个以逗号分隔的长度为2的数字列表，表示要相加的两个数字。例如，如果要将1+2，则输入`1,2`。\",\n",
    "    )\n",
    "]\n",
    "mrkl = initialize_agent(\n",
    "    tools, llm, agent=AgentType.ZERO_SHOT_REACT_DESCRIPTION, verbose=True\n",
    ")\n",
    "\n",
    "\n",
    "mrkl.run(\"3 + 4是多少\")"
   ]
  },
  {
   "cell_type": "code",
   "execution_count": null,
   "id": "df53ea42",
   "metadata": {},
   "outputs": [],
   "source": []
  }
 ],
 "metadata": {
  "kernelspec": {
   "display_name": "book",
   "language": "python",
   "name": "book"
  },
  "language_info": {
   "codemirror_mode": {
    "name": "ipython",
    "version": 3
   },
   "file_extension": ".py",
   "mimetype": "text/x-python",
   "name": "python",
   "nbconvert_exporter": "python",
   "pygments_lexer": "ipython3",
   "version": "3.11.5"
  }
 },
 "nbformat": 4,
 "nbformat_minor": 5
}
