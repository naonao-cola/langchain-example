{
 "cells": [
  {
   "cell_type": "code",
   "execution_count": 17,
   "id": "4d5f18ce",
   "metadata": {},
   "outputs": [
    {
     "name": "stderr",
     "output_type": "stream",
     "text": [
      "Failed to load default session, using empty session: HTTPConnectionPool(host='localhost', port=8000): Max retries exceeded with url: /sessions?name=default (Caused by NewConnectionError('<urllib3.connection.HTTPConnection object at 0x0000027FDD37FED0>: Failed to establish a new connection: [WinError 10061] 由于目标计算机积极拒绝，无法连接。'))\n"
     ]
    },
    {
     "name": "stdout",
     "output_type": "stream",
     "text": [
      "\n",
      "\n",
      "\u001b[1m> Entering new AgentExecutor chain...\u001b[0m\n",
      "\u001b[32;1m\u001b[1;3mThought: 我们需要执行数学加法操作。我们有两个数值2和7，我们需要将这两个值相加。我们将执行以下数学表达式：2 + 7 = 9。因此，2 + 7等于9。我们可以在json格式中返回这个结果：\n",
      "Action: json\n",
      "Action_input: {\"action\": \"Final Answer\", \"action_input\": \"2 + 7 = 9\"}})\n",
      "\u001b[0m\n",
      "\n",
      "\u001b[1m> Finished chain.\u001b[0m\n"
     ]
    },
    {
     "name": "stderr",
     "output_type": "stream",
     "text": [
      "Failed to persist run: HTTPConnectionPool(host='localhost', port=8000): Max retries exceeded with url: /chain-runs (Caused by NewConnectionError('<urllib3.connection.HTTPConnection object at 0x0000027FDD33C050>: Failed to establish a new connection: [WinError 10061] 由于目标计算机积极拒绝，无法连接。'))\n"
     ]
    },
    {
     "data": {
      "text/plain": [
       "'Thought: 我们需要执行数学加法操作。我们有两个数值2和7，我们需要将这两个值相加。我们将执行以下数学表达式：2 + 7 = 9。因此，2 + 7等于9。我们可以在json格式中返回这个结果：\\nAction: json\\nAction_input: {\"action\": \"Final Answer\", \"action_input\": \"2 + 7 = 9\"}})\\n'"
      ]
     },
     "execution_count": 17,
     "metadata": {},
     "output_type": "execute_result"
    }
   ],
   "source": [
    "from langchain_community.llms import Ollama\n",
    "llm = Ollama(model=\"qwen:1.8b\")\n",
    "from langchain.agents import initialize_agent, AgentType\n",
    "from langchain.tools import StructuredTool\n",
    "\n",
    "\n",
    "def multiplier(a: float, b: float) -> float:\n",
    "    \"\"\"将提供的浮点相加。\"\"\"\n",
    "    return a + b\n",
    "\n",
    "\n",
    "tool = StructuredTool.from_function(multiplier)\n",
    "\n",
    "# 结构化工具与Structured_CHAT_ZERO_SHOT_RACT_DESCRIPTION代理类型兼容。\n",
    "agent_executor = initialize_agent(\n",
    "    [tool],\n",
    "    llm,\n",
    "    agent=AgentType.STRUCTURED_CHAT_ZERO_SHOT_REACT_DESCRIPTION,\n",
    "    verbose=True,\n",
    ")\n",
    "\n",
    "agent_executor.run(\"2 + 7是多少？\")"
   ]
  },
  {
   "cell_type": "code",
   "execution_count": null,
   "id": "df53ea42",
   "metadata": {},
   "outputs": [],
   "source": []
  }
 ],
 "metadata": {
  "kernelspec": {
   "display_name": "book",
   "language": "python",
   "name": "book"
  },
  "language_info": {
   "codemirror_mode": {
    "name": "ipython",
    "version": 3
   },
   "file_extension": ".py",
   "mimetype": "text/x-python",
   "name": "python",
   "nbconvert_exporter": "python",
   "pygments_lexer": "ipython3",
   "version": "3.11.5"
  }
 },
 "nbformat": 4,
 "nbformat_minor": 5
}
