{
 "cells": [
  {
   "cell_type": "code",
   "execution_count": 8,
   "id": "4d5f18ce",
   "metadata": {},
   "outputs": [
    {
     "name": "stderr",
     "output_type": "stream",
     "text": [
      "C:\\Users\\long\\AppData\\Local\\Temp\\ipykernel_14684\\2134415399.py:22: PydanticDeprecatedSince20: Pydantic V1 style `@root_validator` validators are deprecated. You should migrate to Pydantic V2 style `@model_validator` validators, see the migration guide for more details. Deprecated in Pydantic V2.0 to be removed in V3.0. See Pydantic V2 Migration Guide at https://errors.pydantic.dev/2.6/migration/\n",
      "  @root_validator\n"
     ]
    },
    {
     "ename": "PydanticUserError",
     "evalue": "If you use `@root_validator` with pre=False (the default) you MUST specify `skip_on_failure=True`. Note that `@root_validator` is deprecated and should be replaced with `@model_validator`.\n\nFor further information visit https://errors.pydantic.dev/2.6/u/root-validator-pre-skip",
     "output_type": "error",
     "traceback": [
      "\u001b[1;31m---------------------------------------------------------------------------\u001b[0m",
      "\u001b[1;31mPydanticUserError\u001b[0m                         Traceback (most recent call last)",
      "Cell \u001b[1;32mIn[8], line 19\u001b[0m\n\u001b[0;32m      9\u001b[0m llm \u001b[38;5;241m=\u001b[39m Ollama(model\u001b[38;5;241m=\u001b[39m\u001b[38;5;124m\"\u001b[39m\u001b[38;5;124mqwen:1.8b\u001b[39m\u001b[38;5;124m\"\u001b[39m)\n\u001b[0;32m     13\u001b[0m _APPROVED_DOMAINS \u001b[38;5;241m=\u001b[39m {\n\u001b[0;32m     14\u001b[0m     \u001b[38;5;124m\"\u001b[39m\u001b[38;5;124mlangchain\u001b[39m\u001b[38;5;124m\"\u001b[39m,\n\u001b[0;32m     15\u001b[0m     \u001b[38;5;124m\"\u001b[39m\u001b[38;5;124mwikipedia\u001b[39m\u001b[38;5;124m\"\u001b[39m,\n\u001b[0;32m     16\u001b[0m }\n\u001b[1;32m---> 19\u001b[0m \u001b[38;5;28;01mclass\u001b[39;00m \u001b[38;5;21;01mToolInputSchema\u001b[39;00m(BaseModel):\n\u001b[0;32m     20\u001b[0m     url: \u001b[38;5;28mstr\u001b[39m \u001b[38;5;241m=\u001b[39m Field(\u001b[38;5;241m.\u001b[39m\u001b[38;5;241m.\u001b[39m\u001b[38;5;241m.\u001b[39m)\n\u001b[0;32m     22\u001b[0m     \u001b[38;5;129m@root_validator\u001b[39m\n\u001b[0;32m     23\u001b[0m     \u001b[38;5;28;01mdef\u001b[39;00m \u001b[38;5;21mvalidate_query\u001b[39m(\u001b[38;5;28mcls\u001b[39m, values: Dict[\u001b[38;5;28mstr\u001b[39m, Any]) \u001b[38;5;241m-\u001b[39m\u001b[38;5;241m>\u001b[39m Dict:\n",
      "Cell \u001b[1;32mIn[8], line 22\u001b[0m, in \u001b[0;36mToolInputSchema\u001b[1;34m()\u001b[0m\n\u001b[0;32m     19\u001b[0m \u001b[38;5;28;01mclass\u001b[39;00m \u001b[38;5;21;01mToolInputSchema\u001b[39;00m(BaseModel):\n\u001b[0;32m     20\u001b[0m     url: \u001b[38;5;28mstr\u001b[39m \u001b[38;5;241m=\u001b[39m Field(\u001b[38;5;241m.\u001b[39m\u001b[38;5;241m.\u001b[39m\u001b[38;5;241m.\u001b[39m)\n\u001b[1;32m---> 22\u001b[0m     \u001b[38;5;129m@root_validator\u001b[39m\n\u001b[0;32m     23\u001b[0m     \u001b[38;5;28;01mdef\u001b[39;00m \u001b[38;5;21mvalidate_query\u001b[39m(\u001b[38;5;28mcls\u001b[39m, values: Dict[\u001b[38;5;28mstr\u001b[39m, Any]) \u001b[38;5;241m-\u001b[39m\u001b[38;5;241m>\u001b[39m Dict:\n\u001b[0;32m     24\u001b[0m         url \u001b[38;5;241m=\u001b[39m values[\u001b[38;5;124m\"\u001b[39m\u001b[38;5;124murl\u001b[39m\u001b[38;5;124m\"\u001b[39m]\n\u001b[0;32m     25\u001b[0m         domain \u001b[38;5;241m=\u001b[39m tldextract\u001b[38;5;241m.\u001b[39mextract(url)\u001b[38;5;241m.\u001b[39mdomain\n",
      "File \u001b[1;32mG:\\Program Files\\anaconda3\\Lib\\site-packages\\pydantic\\deprecated\\class_validators.py:231\u001b[0m, in \u001b[0;36mroot_validator\u001b[1;34m(pre, skip_on_failure, allow_reuse, *__args)\u001b[0m\n\u001b[0;32m    221\u001b[0m warn(\n\u001b[0;32m    222\u001b[0m     \u001b[38;5;124m'\u001b[39m\u001b[38;5;124mPydantic V1 style `@root_validator` validators are deprecated.\u001b[39m\u001b[38;5;124m'\u001b[39m\n\u001b[0;32m    223\u001b[0m     \u001b[38;5;124m'\u001b[39m\u001b[38;5;124m You should migrate to Pydantic V2 style `@model_validator` validators,\u001b[39m\u001b[38;5;124m'\u001b[39m\n\u001b[1;32m   (...)\u001b[0m\n\u001b[0;32m    226\u001b[0m     stacklevel\u001b[38;5;241m=\u001b[39m\u001b[38;5;241m2\u001b[39m,\n\u001b[0;32m    227\u001b[0m )\n\u001b[0;32m    229\u001b[0m \u001b[38;5;28;01mif\u001b[39;00m __args:\n\u001b[0;32m    230\u001b[0m     \u001b[38;5;66;03m# Ensure a nice error is raised if someone attempts to use the bare decorator\u001b[39;00m\n\u001b[1;32m--> 231\u001b[0m     \u001b[38;5;28;01mreturn\u001b[39;00m root_validator()(\u001b[38;5;241m*\u001b[39m__args)  \u001b[38;5;66;03m# type: ignore\u001b[39;00m\n\u001b[0;32m    233\u001b[0m \u001b[38;5;28;01mif\u001b[39;00m allow_reuse \u001b[38;5;129;01mis\u001b[39;00m \u001b[38;5;28;01mTrue\u001b[39;00m:  \u001b[38;5;66;03m# pragma: no cover\u001b[39;00m\n\u001b[0;32m    234\u001b[0m     warn(_ALLOW_REUSE_WARNING_MESSAGE, \u001b[38;5;167;01mDeprecationWarning\u001b[39;00m)\n",
      "File \u001b[1;32mG:\\Program Files\\anaconda3\\Lib\\site-packages\\pydantic\\deprecated\\class_validators.py:237\u001b[0m, in \u001b[0;36mroot_validator\u001b[1;34m(pre, skip_on_failure, allow_reuse, *__args)\u001b[0m\n\u001b[0;32m    235\u001b[0m mode: Literal[\u001b[38;5;124m'\u001b[39m\u001b[38;5;124mbefore\u001b[39m\u001b[38;5;124m'\u001b[39m, \u001b[38;5;124m'\u001b[39m\u001b[38;5;124mafter\u001b[39m\u001b[38;5;124m'\u001b[39m] \u001b[38;5;241m=\u001b[39m \u001b[38;5;124m'\u001b[39m\u001b[38;5;124mbefore\u001b[39m\u001b[38;5;124m'\u001b[39m \u001b[38;5;28;01mif\u001b[39;00m pre \u001b[38;5;129;01mis\u001b[39;00m \u001b[38;5;28;01mTrue\u001b[39;00m \u001b[38;5;28;01melse\u001b[39;00m \u001b[38;5;124m'\u001b[39m\u001b[38;5;124mafter\u001b[39m\u001b[38;5;124m'\u001b[39m\n\u001b[0;32m    236\u001b[0m \u001b[38;5;28;01mif\u001b[39;00m pre \u001b[38;5;129;01mis\u001b[39;00m \u001b[38;5;28;01mFalse\u001b[39;00m \u001b[38;5;129;01mand\u001b[39;00m skip_on_failure \u001b[38;5;129;01mis\u001b[39;00m \u001b[38;5;129;01mnot\u001b[39;00m \u001b[38;5;28;01mTrue\u001b[39;00m:\n\u001b[1;32m--> 237\u001b[0m     \u001b[38;5;28;01mraise\u001b[39;00m PydanticUserError(\n\u001b[0;32m    238\u001b[0m         \u001b[38;5;124m'\u001b[39m\u001b[38;5;124mIf you use `@root_validator` with pre=False (the default) you MUST specify `skip_on_failure=True`.\u001b[39m\u001b[38;5;124m'\u001b[39m\n\u001b[0;32m    239\u001b[0m         \u001b[38;5;124m'\u001b[39m\u001b[38;5;124m Note that `@root_validator` is deprecated and should be replaced with `@model_validator`.\u001b[39m\u001b[38;5;124m'\u001b[39m,\n\u001b[0;32m    240\u001b[0m         code\u001b[38;5;241m=\u001b[39m\u001b[38;5;124m'\u001b[39m\u001b[38;5;124mroot-validator-pre-skip\u001b[39m\u001b[38;5;124m'\u001b[39m,\n\u001b[0;32m    241\u001b[0m     )\n\u001b[0;32m    243\u001b[0m wrap \u001b[38;5;241m=\u001b[39m partial(_decorators_v1\u001b[38;5;241m.\u001b[39mmake_v1_generic_root_validator, pre\u001b[38;5;241m=\u001b[39mpre)\n\u001b[0;32m    245\u001b[0m \u001b[38;5;28;01mdef\u001b[39;00m \u001b[38;5;21mdec\u001b[39m(f: Callable[\u001b[38;5;241m.\u001b[39m\u001b[38;5;241m.\u001b[39m\u001b[38;5;241m.\u001b[39m, Any] \u001b[38;5;241m|\u001b[39m \u001b[38;5;28mclassmethod\u001b[39m[Any, Any, Any] \u001b[38;5;241m|\u001b[39m \u001b[38;5;28mstaticmethod\u001b[39m[Any, Any]) \u001b[38;5;241m-\u001b[39m\u001b[38;5;241m>\u001b[39m Any:\n",
      "\u001b[1;31mPydanticUserError\u001b[0m: If you use `@root_validator` with pre=False (the default) you MUST specify `skip_on_failure=True`. Note that `@root_validator` is deprecated and should be replaced with `@model_validator`.\n\nFor further information visit https://errors.pydantic.dev/2.6/u/root-validator-pre-skip"
     ]
    }
   ],
   "source": [
    "from langchain_community.llms import Ollama\n",
    "from typing import Any, Dict\n",
    "from langchain.agents import AgentType, initialize_agent\n",
    "from langchain.tools.requests.tool import RequestsGetTool\n",
    "from langchain_community.utilities.requests import TextRequestsWrapper\n",
    "from pydantic import BaseModel, Field, root_validator\n",
    "import tldextract\n",
    "\n",
    "llm = Ollama(model=\"qwen:1.8b\")\n",
    "\n",
    "\n",
    "\n",
    "_APPROVED_DOMAINS = {\n",
    "    \"langchain\",\n",
    "    \"wikipedia\",\n",
    "}\n",
    "\n",
    "\n",
    "class ToolInputSchema(BaseModel):\n",
    "    url: str = Field(...)\n",
    "\n",
    "    @root_validator\n",
    "    def validate_query(cls, values: Dict[str, Any]) -> Dict:\n",
    "        url = values[\"url\"]\n",
    "        domain = tldextract.extract(url).domain\n",
    "        if domain not in _APPROVED_DOMAINS:\n",
    "            raise ValueError(\n",
    "                f\"Domain {domain} is not on the approved list:\"\n",
    "                f\" {sorted(_APPROVED_DOMAINS)}\"\n",
    "            )\n",
    "        return values\n",
    "\n",
    "\n",
    "tool = RequestsGetTool(\n",
    "    args_schema=ToolInputSchema, requests_wrapper=TextRequestsWrapper()\n",
    ")\n",
    "\n",
    "agent = initialize_agent(\n",
    "    [tool], llm, agent=AgentType.ZERO_SHOT_REACT_DESCRIPTION, verbose=False\n",
    ")\n",
    "\n",
    "# This will succeed, since there aren't any arguments that will be triggered during validation\n",
    "answer = agent.run(\"What's the main title on langchain.com?\")\n",
    "print(answer)\n",
    "agent.run(\"What's the main title on google.com?\")"
   ]
  },
  {
   "cell_type": "code",
   "execution_count": null,
   "id": "df53ea42",
   "metadata": {},
   "outputs": [],
   "source": []
  }
 ],
 "metadata": {
  "kernelspec": {
   "display_name": "book",
   "language": "python",
   "name": "book"
  },
  "language_info": {
   "codemirror_mode": {
    "name": "ipython",
    "version": 3
   },
   "file_extension": ".py",
   "mimetype": "text/x-python",
   "name": "python",
   "nbconvert_exporter": "python",
   "pygments_lexer": "ipython3",
   "version": "3.11.5"
  }
 },
 "nbformat": 4,
 "nbformat_minor": 5
}
