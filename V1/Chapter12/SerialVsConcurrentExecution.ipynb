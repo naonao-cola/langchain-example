{
 "cells": [
  {
   "cell_type": "code",
   "execution_count": 9,
   "id": "246e3eba",
   "metadata": {},
   "outputs": [
    {
     "ename": "TypeError",
     "evalue": "load_tools() missing 1 required positional argument: 'tool_names'",
     "output_type": "error",
     "traceback": [
      "\u001b[1;31m---------------------------------------------------------------------------\u001b[0m",
      "\u001b[1;31mTypeError\u001b[0m                                 Traceback (most recent call last)",
      "Cell \u001b[1;32mIn[9], line 21\u001b[0m\n\u001b[0;32m     18\u001b[0m llm \u001b[38;5;241m=\u001b[39m Ollama(model\u001b[38;5;241m=\u001b[39m\u001b[38;5;124m\"\u001b[39m\u001b[38;5;124mqwen:1.8b\u001b[39m\u001b[38;5;124m\"\u001b[39m)\n\u001b[0;32m     20\u001b[0m \u001b[38;5;66;03m# tools = load_tools([\"llm-math\"], llm=llm)\u001b[39;00m\n\u001b[1;32m---> 21\u001b[0m tools \u001b[38;5;241m=\u001b[39m load_tools(llm\u001b[38;5;241m=\u001b[39mllm)\n\u001b[0;32m     22\u001b[0m agent \u001b[38;5;241m=\u001b[39m initialize_agent(\n\u001b[0;32m     23\u001b[0m     tools,\n\u001b[0;32m     24\u001b[0m     llm,\n\u001b[1;32m   (...)\u001b[0m\n\u001b[0;32m     27\u001b[0m     handle_parsing_errors\u001b[38;5;241m=\u001b[39m\u001b[38;5;28;01mTrue\u001b[39;00m,\n\u001b[0;32m     28\u001b[0m )\n\u001b[0;32m     30\u001b[0m s \u001b[38;5;241m=\u001b[39m time\u001b[38;5;241m.\u001b[39mperf_counter()\n",
      "\u001b[1;31mTypeError\u001b[0m: load_tools() missing 1 required positional argument: 'tool_names'"
     ]
    }
   ],
   "source": [
    "#导入需要的依赖包\n",
    "import asyncio\n",
    "import time\n",
    "from langchain.agents import Tool,initialize_agent, load_tools\n",
    "from langchain.agents import AgentType\n",
    "from langchain.callbacks.stdout import StdOutCallbackHandler\n",
    "from langchain.callbacks.tracers import LangChainTracer\n",
    "from aiohttp import ClientSession\n",
    "from langchain_community.llms import Ollama\n",
    "\n",
    "questions = [\n",
    "    \"1 + 1=？\",\n",
    "    \"1 + 3=？\",\n",
    "    \"2 + 3=?\",\n",
    "]\n",
    "\n",
    "#配置模型信息\n",
    "llm = Ollama(model=\"qwen:1.8b\")\n",
    "\n",
    "# tools = load_tools([\"llm-math\"], llm=llm)\n",
    "tools = load_tools(llm=llm)\n",
    "agent = initialize_agent(\n",
    "    tools,\n",
    "    llm,\n",
    "    agent=AgentType.ZERO_SHOT_REACT_DESCRIPTION,\n",
    "    verbose=True,\n",
    "    handle_parsing_errors=True,\n",
    ")\n",
    "\n",
    "s = time.perf_counter()\n",
    "for q in questions:\n",
    "    agent.run(q)\n",
    "elapsed = time.perf_counter() - s\n",
    "print(f\"串行执行时间 {elapsed:0.2f}秒。\")\n",
    "\n",
    "\n",
    "# s2 = time.perf_counter()\n",
    "# # If running this outside of Jupyter, use asyncio.run or loop.run_until_complete\n",
    "# tasks = [agent.arun(q) for q in questions]\n",
    "# asyncio.gather(*tasks)\n",
    "# elapsed = time.perf_counter() - s2\n",
    "# print(f\"Concurrent executed in {elapsed:0.2f} seconds.\")"
   ]
  },
  {
   "cell_type": "code",
   "execution_count": null,
   "id": "ee83af7e",
   "metadata": {},
   "outputs": [],
   "source": []
  }
 ],
 "metadata": {
  "kernelspec": {
   "display_name": "book",
   "language": "python",
   "name": "book"
  },
  "language_info": {
   "codemirror_mode": {
    "name": "ipython",
    "version": 3
   },
   "file_extension": ".py",
   "mimetype": "text/x-python",
   "name": "python",
   "nbconvert_exporter": "python",
   "pygments_lexer": "ipython3",
   "version": "3.11.5"
  }
 },
 "nbformat": 4,
 "nbformat_minor": 5
}
