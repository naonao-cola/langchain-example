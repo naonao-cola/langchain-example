{
 "cells": [
  {
   "cell_type": "code",
   "execution_count": 39,
   "id": "1ae60ac6",
   "metadata": {},
   "outputs": [],
   "source": [
    "from langchain_community.chat_models import ChatOllama\n",
    "llm = ChatOllama(model=\"qwen:1.8b\")"
   ]
  },
  {
   "cell_type": "code",
   "execution_count": 40,
   "id": "b65b904d",
   "metadata": {},
   "outputs": [],
   "source": [
    "from langchain import hub\n",
    "from langchain.agents import AgentExecutor, create_react_agent"
   ]
  },
  {
   "cell_type": "code",
   "execution_count": 41,
   "id": "d44b6862",
   "metadata": {},
   "outputs": [],
   "source": [
    "from langchain.agents import tool\n",
    "\n",
    "@tool\n",
    "def get_word_length(word: str) -> int:\n",
    "    \"\"\"返回单词的长度。\"\"\"\n",
    "    return len(word)\n",
    "\n",
    "tools = [get_word_length]"
   ]
  },
  {
   "cell_type": "code",
   "execution_count": 46,
   "id": "53a39f90",
   "metadata": {},
   "outputs": [],
   "source": [
    "from langchain import hub\n",
    "# Get the prompt to use - you can modify this!\n",
    "prompt = hub.pull(\"hwchase17/react\")"
   ]
  },
  {
   "cell_type": "code",
   "execution_count": 47,
   "id": "59b3145e",
   "metadata": {},
   "outputs": [],
   "source": [
    "# Choose the LLM to use\n",
    "\n",
    "# Construct the ReAct agent\n",
    "agent = create_react_agent(llm, tools, prompt)"
   ]
  },
  {
   "cell_type": "code",
   "execution_count": 48,
   "id": "8b114db6",
   "metadata": {},
   "outputs": [],
   "source": [
    "# Create an agent executor by passing in the agent and tools\n",
    "agent_executor = AgentExecutor(agent=agent, tools=tools, verbose=True)"
   ]
  },
  {
   "cell_type": "code",
   "execution_count": 49,
   "id": "9fc445e7",
   "metadata": {},
   "outputs": [
    {
     "name": "stdout",
     "output_type": "stream",
     "text": [
      "\n",
      "\n",
      "\u001b[1m> Entering new AgentExecutor chain...\u001b[0m\n",
      "\u001b[32;1m\u001b[1;3m I need to find out what LangChain is. To acheive this, I should use the \"get_word_length\" function to determine the length of the word \"LangChain\".\n",
      "Action: get_word_length(\"LangChain\"))\n",
      "Action Input: \n",
      "```py\n",
      "{'length': 8}\n",
      "``\u001b[0mget_word_length(\"LangChain\")) is not a valid tool, try one of [get_word_length].\u001b[32;1m\u001b[1;3mI now know the final answer\n",
      "Final Answer: \"LangChain\" appears to be a name or brand that does not have an official website or any other publicly available information. This could make it difficult for individuals to learn more about the company, its products or services, and any potential risks associated with it.\n",
      "If you are looking for more information about \"LangChain,\" you may consider reaching out to the company's representatives or visiting official websites that provide detailed information about their products, services, and business practices. Additionally, you may also want to consider attending industry conferences, webinars, or other events that bring together professionals in your field and provide opportunities to learn more about new trends, technologies, and best practices in your industry.\n",
      "In conclusion, \"LangChain\" appears to be a name or brand that does not have an official website or any other publicly available information. This could make it difficult for individuals to learn more about the company, its products or services, and any potential risks associated with it. To find out more about \"LangChain,\" you may consider reaching out to the company's representatives or visiting official websites that provide detailed information about their products, services, and business practices. Additionally, you may also want to consider attending industry conferences, webinars, or other events that bring together professionals in your field and provide opportunities to learn more about new trends, technologies, and best practices in your industry.\u001b[0m\n",
      "\n",
      "\u001b[1m> Finished chain.\u001b[0m\n"
     ]
    },
    {
     "data": {
      "text/plain": [
       "{'input': 'what is LangChain?',\n",
       " 'output': '\"LangChain\" appears to be a name or brand that does not have an official website or any other publicly available information. This could make it difficult for individuals to learn more about the company, its products or services, and any potential risks associated with it.\\nIf you are looking for more information about \"LangChain,\" you may consider reaching out to the company\\'s representatives or visiting official websites that provide detailed information about their products, services, and business practices. Additionally, you may also want to consider attending industry conferences, webinars, or other events that bring together professionals in your field and provide opportunities to learn more about new trends, technologies, and best practices in your industry.\\nIn conclusion, \"LangChain\" appears to be a name or brand that does not have an official website or any other publicly available information. This could make it difficult for individuals to learn more about the company, its products or services, and any potential risks associated with it. To find out more about \"LangChain,\" you may consider reaching out to the company\\'s representatives or visiting official websites that provide detailed information about their products, services, and business practices. Additionally, you may also want to consider attending industry conferences, webinars, or other events that bring together professionals in your field and provide opportunities to learn more about new trends, technologies, and best practices in your industry.'}"
      ]
     },
     "execution_count": 49,
     "metadata": {},
     "output_type": "execute_result"
    }
   ],
   "source": [
    "agent_executor.invoke({\"input\": \"what is LangChain?\"})"
   ]
  },
  {
   "cell_type": "code",
   "execution_count": 45,
   "id": "19a36ba6",
   "metadata": {
    "scrolled": true
   },
   "outputs": [
    {
     "name": "stdout",
     "output_type": "stream",
     "text": [
      "Looking in indexes: https://mirrors.aliyun.com/pypi/simple, https://mirrors.aliyun.com/pypi/simple/, https://mirror.baidu.com/pypi/simple\n",
      "Collecting langchainhub\n",
      "  Downloading https://mirror.baidu.com/pypi/packages/1e/30/19859c841afcd54ee318709be0d456a8bd60d837005b80e99b35cd4195dc/langchainhub-0.1.15-py3-none-any.whl (4.6 kB)\n",
      "Requirement already satisfied: requests<3,>=2 in g:\\program files\\anaconda3\\lib\\site-packages (from langchainhub) (2.31.0)\n",
      "Requirement already satisfied: types-requests<3.0.0.0,>=2.31.0.2 in g:\\program files\\anaconda3\\lib\\site-packages (from langchainhub) (2.31.0.20240403)\n",
      "Requirement already satisfied: charset-normalizer<4,>=2 in g:\\program files\\anaconda3\\lib\\site-packages (from requests<3,>=2->langchainhub) (3.3.2)\n",
      "Requirement already satisfied: idna<4,>=2.5 in g:\\program files\\anaconda3\\lib\\site-packages (from requests<3,>=2->langchainhub) (3.4)\n",
      "Requirement already satisfied: urllib3<3,>=1.21.1 in g:\\program files\\anaconda3\\lib\\site-packages (from requests<3,>=2->langchainhub) (2.0.7)\n",
      "Requirement already satisfied: certifi>=2017.4.17 in g:\\program files\\anaconda3\\lib\\site-packages (from requests<3,>=2->langchainhub) (2023.11.17)\n",
      "Installing collected packages: langchainhub\n",
      "Successfully installed langchainhub-0.1.15\n",
      "Note: you may need to restart the kernel to use updated packages.\n"
     ]
    }
   ],
   "source": [
    "pip install langchainhub"
   ]
  },
  {
   "cell_type": "code",
   "execution_count": null,
   "id": "b8f61e22",
   "metadata": {},
   "outputs": [],
   "source": []
  }
 ],
 "metadata": {
  "kernelspec": {
   "display_name": "book",
   "language": "python",
   "name": "book"
  },
  "language_info": {
   "codemirror_mode": {
    "name": "ipython",
    "version": 3
   },
   "file_extension": ".py",
   "mimetype": "text/x-python",
   "name": "python",
   "nbconvert_exporter": "python",
   "pygments_lexer": "ipython3",
   "version": "3.11.5"
  }
 },
 "nbformat": 4,
 "nbformat_minor": 5
}
