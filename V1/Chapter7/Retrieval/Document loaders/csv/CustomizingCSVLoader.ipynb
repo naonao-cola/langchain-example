{
 "cells": [
  {
   "cell_type": "code",
   "execution_count": 1,
   "id": "89118835",
   "metadata": {},
   "outputs": [
    {
     "data": {
      "text/plain": [
       "[Document(page_content='名字: name\\n密码: password', metadata={'source': 'demo.csv', 'row': 0}),\n",
       " Document(page_content='名字: zhang\\n密码: 123456', metadata={'source': 'demo.csv', 'row': 1}),\n",
       " Document(page_content='名字: li\\n密码: 123456', metadata={'source': 'demo.csv', 'row': 2})]"
      ]
     },
     "execution_count": 1,
     "metadata": {},
     "output_type": "execute_result"
    }
   ],
   "source": [
    "from langchain.document_loaders.csv_loader import CSVLoader\n",
    "\n",
    "loader = CSVLoader(file_path='demo.csv', csv_args={\n",
    "    'delimiter': ',',\n",
    "    'quotechar': '\"',\n",
    "    'fieldnames': ['名字', '密码']\n",
    "})\n",
    "\n",
    "data = loader.load()\n",
    "\n",
    "data"
   ]
  },
  {
   "cell_type": "code",
   "execution_count": null,
   "id": "083e3d13",
   "metadata": {},
   "outputs": [],
   "source": []
  }
 ],
 "metadata": {
  "kernelspec": {
   "display_name": "book",
   "language": "python",
   "name": "book"
  },
  "language_info": {
   "codemirror_mode": {
    "name": "ipython",
    "version": 3
   },
   "file_extension": ".py",
   "mimetype": "text/x-python",
   "name": "python",
   "nbconvert_exporter": "python",
   "pygments_lexer": "ipython3",
   "version": "3.11.5"
  }
 },
 "nbformat": 4,
 "nbformat_minor": 5
}
