{
 "cells": [
  {
   "cell_type": "code",
   "execution_count": 1,
   "id": "88f003d4",
   "metadata": {},
   "outputs": [
    {
     "data": {
      "text/plain": [
       "'我是来自阿里云的超大规模语言模型，我叫通义千问。作为阿里云研发的语言模型，我可以回答问题、创作文字，还能表达观点、进行逻辑分析。\\n\\n例如，你可以问我：“通义千问，你能解释一下量子力学的基本原理吗？”我会基于我的训练数据和知识库来为你解答这个问题。\\n\\n需要注意的是，虽然我具有强大的语言理解和生成能力，但我并不是全能的，例如，在处理某些特定领域的专业术语或问题时，由于这些领域与我所掌握的语言和知识背景存在一定的差异和复杂性，因此在进行这类问题的解答或解释时，我可能需要运用更多的专业知识、研究方法和技术手段，以更好地理解这些问题的本质和特点，并在此基础上为用户提供更准确和更具针对性的答案或解释。\\n\\n希望以上的解答能对你有所帮助，如果你对我的回答有疑问或者需要进一步的信息，欢迎随时向我提问。\\n'"
      ]
     },
     "execution_count": 1,
     "metadata": {},
     "output_type": "execute_result"
    }
   ],
   "source": [
    "#导入需要的依赖包\n",
    "from langchain_community.llms import Ollama\n",
    "import langchain\n",
    "# from langchain.globals import set_verbose\n",
    "#配置模型信息\n",
    "llm = Ollama(model=\"qwen:1.8b\")\n",
    "langchain.verbose = True\n",
    "# set_verbose(True)\n",
    "#调用大语言模型的预测功能\n",
    "llm.invoke(\"你是谁？\")"
   ]
  },
  {
   "cell_type": "code",
   "execution_count": null,
   "id": "428b461b",
   "metadata": {},
   "outputs": [],
   "source": []
  }
 ],
 "metadata": {
  "kernelspec": {
   "display_name": "book",
   "language": "python",
   "name": "book"
  },
  "language_info": {
   "codemirror_mode": {
    "name": "ipython",
    "version": 3
   },
   "file_extension": ".py",
   "mimetype": "text/x-python",
   "name": "python",
   "nbconvert_exporter": "python",
   "pygments_lexer": "ipython3",
   "version": "3.11.5"
  }
 },
 "nbformat": 4,
 "nbformat_minor": 5
}
