{
 "cells": [
  {
   "cell_type": "code",
   "execution_count": 19,
   "id": "48a71330",
   "metadata": {},
   "outputs": [],
   "source": [
    "from langchain_openai import ChatOpenAI\n",
    "from langchain_community.chat_models import ChatOllama\n",
    "from langchain.prompts import PromptTemplate, ChatPromptTemplate"
   ]
  },
  {
   "cell_type": "code",
   "execution_count": 20,
   "id": "d15eb246",
   "metadata": {},
   "outputs": [],
   "source": [
    "# 添加一个字符串输出解析器，以便两者之间的输出是相同类型的\n",
    "# from langchain.schema.output_parser import StrOutputParser\n",
    "from langchain_core.output_parsers import StrOutputParser\n",
    "\n",
    "chat_prompt = ChatPromptTemplate.from_messages(\n",
    "    [\n",
    "        (\n",
    "            \"system\",\n",
    "            \"您是一位贴心的助手，每次回复都会附上赞美之词。\",\n",
    "        ),\n",
    "        (\"human\", \"为什么你喜欢{city}\"),\n",
    "    ]\n",
    ")\n",
    "# 在这里，我们将使用一个错误的模型名称来轻松创建一个会报错的链式调用\n",
    "chat_model = ChatOpenAI(model_name=\"gpt-fake\")\n",
    "bad_chain = chat_prompt | chat_model | StrOutputParser()"
   ]
  },
  {
   "cell_type": "code",
   "execution_count": 21,
   "id": "a51792bc",
   "metadata": {},
   "outputs": [],
   "source": [
    "from langchain_core.prompts import PromptTemplate\n",
    "\n",
    "prompt_template = \"\"\"说明：您应该在回复中始终包含赞美之词。\n",
    "问题: 为什么你喜欢{city}?\"\"\"\n",
    "prompt = PromptTemplate.from_template(prompt_template)\n",
    "llm = ChatOllama(model=\"qwen:1.8b\")\n",
    "good_chain = prompt | llm"
   ]
  },
  {
   "cell_type": "code",
   "execution_count": 23,
   "id": "b66ca918",
   "metadata": {},
   "outputs": [
    {
     "data": {
      "text/plain": [
       "AIMessage(content='我非常喜欢武汉，原因有很多方面。\\n\\n首先，武汉地理位置优越，是华中地区最大的城市之一。它位于长江与汉江的交汇处，是连接中国东西部的重要交通节点。这种地理位置优势使得武汉成为旅游胜地，吸引了大量游客前往参观游览。\\n\\n其次，武汉是一座有着深厚历史文化底蕴的城市。从古代的楚国到近代的中国共产党诞生地——中共武汉市委旧址群，都体现了武汉深厚的历史文化底蕴和人文精神。\\n\\n最后，武汉作为一座现代化大都市，经济发展迅速。近年来，武汉凭借其独特的地理位置优势、深厚的人文历史底蕴和快速发展的经济实力，成为了全国乃至全球重要的经济中心之一。\\n\\n总之，我非常喜欢武汉，因为它的地理位置优越、历史文化底蕴深厚、经济发展迅速等优点，使得武汉成为了一个具有深厚历史文化底蕴和人文精神的城市，是我非常喜爱的一个城市。\\n', response_metadata={'model': 'qwen:1.8b', 'created_at': '2024-04-03T23:51:33.2200753Z', 'message': {'role': 'assistant', 'content': ''}, 'done': True, 'total_duration': 1595654800, 'load_duration': 2816300, 'prompt_eval_count': 29, 'prompt_eval_duration': 243596000, 'eval_count': 181, 'eval_duration': 1348099000}, id='run-97ad001f-f9ba-4487-acbc-de91a8866310-0')"
      ]
     },
     "execution_count": 23,
     "metadata": {},
     "output_type": "execute_result"
    }
   ],
   "source": [
    "# 创建一个将两者结合在一起的最终链\n",
    "chain = bad_chain.with_fallbacks([good_chain])\n",
    "chain.invoke({\"city\": \"武汉\"})"
   ]
  },
  {
   "cell_type": "code",
   "execution_count": null,
   "id": "7a994e15",
   "metadata": {},
   "outputs": [],
   "source": []
  }
 ],
 "metadata": {
  "kernelspec": {
   "display_name": "book",
   "language": "python",
   "name": "book"
  },
  "language_info": {
   "codemirror_mode": {
    "name": "ipython",
    "version": 3
   },
   "file_extension": ".py",
   "mimetype": "text/x-python",
   "name": "python",
   "nbconvert_exporter": "python",
   "pygments_lexer": "ipython3",
   "version": "3.11.5"
  }
 },
 "nbformat": 4,
 "nbformat_minor": 5
}
