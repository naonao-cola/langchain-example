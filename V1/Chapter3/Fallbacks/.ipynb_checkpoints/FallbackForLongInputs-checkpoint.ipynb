{
 "cells": [
  {
   "cell_type": "code",
   "execution_count": null,
   "id": "d5d0bc20",
   "metadata": {},
   "outputs": [],
   "source": [
    "from langchain_community.chat_models import ChatOllama\n",
    "from langchain_openai import ChatOpenAI"
   ]
  },
  {
   "cell_type": "code",
   "execution_count": null,
   "id": "c322fb29",
   "metadata": {},
   "outputs": [],
   "source": [
    "short_llm =  ChatOllama(model=\"qwen:1.8b\")\n",
    "long_llm = ChatOpenAI(model=\"gpt-3.5-turbo-16k\")\n",
    "llm = short_llm.with_fallbacks([long_llm])"
   ]
  },
  {
   "cell_type": "markdown",
   "id": "94721143",
   "metadata": {},
   "source": [
    "先尝试使用不支持长输入的模型"
   ]
  },
  {
   "cell_type": "code",
   "execution_count": null,
   "id": "bf0ed1fc",
   "metadata": {},
   "outputs": [],
   "source": [
    "inputs = \"下一个数字是: \" + \", \".join([\"1\", \"2\"] * 3000)\n",
    "try:\n",
    "    print(short_llm.invoke(inputs))\n",
    "except Exception as e:\n",
    "    print(e)"
   ]
  },
  {
   "cell_type": "code",
   "execution_count": null,
   "id": "398cfdd3",
   "metadata": {},
   "outputs": [],
   "source": []
  }
 ],
 "metadata": {
  "kernelspec": {
   "display_name": "book",
   "language": "python",
   "name": "book"
  },
  "language_info": {
   "codemirror_mode": {
    "name": "ipython",
    "version": 3
   },
   "file_extension": ".py",
   "mimetype": "text/x-python",
   "name": "python",
   "nbconvert_exporter": "python",
   "pygments_lexer": "ipython3",
   "version": "3.11.5"
  }
 },
 "nbformat": 4,
 "nbformat_minor": 5
}
