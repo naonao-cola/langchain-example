{
 "cells": [
  {
   "cell_type": "code",
   "execution_count": 4,
   "metadata": {},
   "outputs": [],
   "source": [
    "#导入需要的依赖包\n",
    "from langchain_community.llms import Ollama"
   ]
  },
  {
   "cell_type": "code",
   "execution_count": 5,
   "metadata": {},
   "outputs": [],
   "source": [
    "#配置模型信息\n",
    "llm = Ollama(model=\"qwen:1.8b\")"
   ]
  },
  {
   "cell_type": "code",
   "execution_count": 6,
   "metadata": {
    "scrolled": true
   },
   "outputs": [
    {
     "data": {
      "text/plain": [
       "'是的，人工智能（AI）将在人类文明中产生深远影响。以下是一些可能的影响：\\n\\n1. 提高生产效率：AI可以通过机器学习和自动化算法，对生产过程进行优化，从而提高生产效率。\\n\\n2. 创造新的就业机会：尽管AI技术的发展可能会替代某些传统的工作岗位，但是同时也会创造出新的就业机会，如AI开发工程师、数据科学家等。\\n\\n3. 促进科学研究的进步：AI技术的发展可以为科学研究提供强大的工具和平台，例如机器学习算法用于发现未知的生物系统结构；自然语言处理（NLP）技术可用于研究文本中蕴含的信息和观点等。\\n\\n综上所述，人工智能将在人类文明中产生深远影响。这包括提高生产效率、创造新的就业机会、促进科学研究的进步等多方面的影响。因此，我们需要高度重视人工智能的发展，并积极应对可能带来的挑战和机遇。\\n'"
      ]
     },
     "execution_count": 6,
     "metadata": {},
     "output_type": "execute_result"
    }
   ],
   "source": [
    "#调用大语言模型的预测功能\n",
    "llm.invoke(\"AI会对人类文明产生深远影响吗\")"
   ]
  },
  {
   "cell_type": "code",
   "execution_count": null,
   "metadata": {},
   "outputs": [],
   "source": []
  },
  {
   "cell_type": "code",
   "execution_count": null,
   "metadata": {},
   "outputs": [],
   "source": []
  }
 ],
 "metadata": {
  "kernelspec": {
   "display_name": "book",
   "language": "python",
   "name": "book"
  },
  "language_info": {
   "codemirror_mode": {
    "name": "ipython",
    "version": 3
   },
   "file_extension": ".py",
   "mimetype": "text/x-python",
   "name": "python",
   "nbconvert_exporter": "python",
   "pygments_lexer": "ipython3",
   "version": "3.11.5"
  }
 },
 "nbformat": 4,
 "nbformat_minor": 2
}
