{
 "cells": [
  {
   "cell_type": "code",
   "execution_count": 4,
   "id": "e05c609a",
   "metadata": {},
   "outputs": [],
   "source": [
    "from langchain.chains import LLMChain\n",
    "from langchain.memory import ConversationBufferMemory\n",
    "from langchain.prompts import PromptTemplate\n",
    "from langchain.schema import SystemMessage\n",
    "from langchain.prompts import ChatPromptTemplate, HumanMessagePromptTemplate, MessagesPlaceholder\n",
    "from langchain_community.chat_models import ChatOllama\n",
    "chat = ChatOllama(model=\"qwen:1.8b\")\n"
   ]
  },
  {
   "cell_type": "code",
   "execution_count": 5,
   "id": "57d0c614",
   "metadata": {},
   "outputs": [],
   "source": [
    "prompt = ChatPromptTemplate.from_messages([\n",
    "    SystemMessage(content=\"你是一个正在与人类进行对话的聊天机器人。\"), # The persistent system prompt\n",
    "    MessagesPlaceholder(variable_name=\"chat_history\"), # Where the memory will be stored.\n",
    "    HumanMessagePromptTemplate.from_template(\"{human_input}\"), # Where the human input will injected\n",
    "])\n",
    "    \n",
    "memory = ConversationBufferMemory(memory_key=\"chat_history\", return_messages=True)"
   ]
  },
  {
   "cell_type": "code",
   "execution_count": 6,
   "id": "a7819ab4",
   "metadata": {},
   "outputs": [],
   "source": [
    "chat_llm_chain = LLMChain(\n",
    "    llm=chat,\n",
    "    prompt=prompt,\n",
    "    verbose=True,\n",
    "    memory=memory,\n",
    ")"
   ]
  },
  {
   "cell_type": "code",
   "execution_count": 7,
   "id": "9d669543",
   "metadata": {},
   "outputs": [
    {
     "name": "stdout",
     "output_type": "stream",
     "text": [
      "\n",
      "\n",
      "\u001b[1m> Entering new LLMChain chain...\u001b[0m\n",
      "Prompt after formatting:\n",
      "\u001b[32;1m\u001b[1;3mSystem: 你是一个正在与人类进行对话的聊天机器人。\n",
      "Human: 你好，朋友，我的名字是东山大黑雕\u001b[0m\n",
      "\n",
      "\u001b[1m> Finished chain.\u001b[0m\n"
     ]
    },
    {
     "data": {
      "text/plain": [
       "'你好，东山大黑雕！我听说你是中国最著名的雕版之一——东山大黑雕。\\n\\n雕版是一种以木刻形式记录文字的技术。在中国古代，雕版的应用非常广泛，涵盖了文学、史学、哲学等多个领域。\\n\\n东山大黑雕作为雕版艺术的瑰宝之一，不仅体现了中国古代雕版艺术的精湛技艺，更承载了中国传统文化和历史记忆，是中国文化的重要组成部分。\\n\\n希望我的介绍能对你有所启发。如果你有任何关于东山大黑雕的问题或者想要了解更多关于这座雕版艺术瑰宝的信息，欢迎随时向我提问或提供更多的信息。让我们一起欣赏这中国古代雕版艺术的杰作——东山大黑雕！\\n\\n'"
      ]
     },
     "execution_count": 7,
     "metadata": {},
     "output_type": "execute_result"
    }
   ],
   "source": [
    "chat_llm_chain.predict(human_input=\"你好，朋友，我的名字是东山大黑雕\")"
   ]
  },
  {
   "cell_type": "code",
   "execution_count": 8,
   "id": "cb73eac3",
   "metadata": {},
   "outputs": [
    {
     "name": "stdout",
     "output_type": "stream",
     "text": [
      "\n",
      "\n",
      "\u001b[1m> Entering new LLMChain chain...\u001b[0m\n",
      "Prompt after formatting:\n",
      "\u001b[32;1m\u001b[1;3mSystem: 你是一个正在与人类进行对话的聊天机器人。\n",
      "Human: 你好，朋友，我的名字是东山大黑雕\n",
      "AI: 你好，东山大黑雕！我听说你是中国最著名的雕版之一——东山大黑雕。\n",
      "\n",
      "雕版是一种以木刻形式记录文字的技术。在中国古代，雕版的应用非常广泛，涵盖了文学、史学、哲学等多个领域。\n",
      "\n",
      "东山大黑雕作为雕版艺术的瑰宝之一，不仅体现了中国古代雕版艺术的精湛技艺，更承载了中国传统文化和历史记忆，是中国文化的重要组成部分。\n",
      "\n",
      "希望我的介绍能对你有所启发。如果你有任何关于东山大黑雕的问题或者想要了解更多关于这座雕版艺术瑰宝的信息，欢迎随时向我提问或提供更多的信息。让我们一起欣赏这中国古代雕版艺术的杰作——东山大黑雕！\n",
      "\n",
      "\n",
      "Human: 你知道我是谁吗？\u001b[0m\n",
      "\n",
      "\u001b[1m> Finished chain.\u001b[0m\n"
     ]
    },
    {
     "data": {
      "text/plain": [
       "'是的，我知道你是东山大黑雕的创造者和拥有者。这座雕版艺术品以其独特的设计风格、精湛的雕刻技艺以及丰富的历史文化内涵而成为中国传统文化的重要组成部分。\\n \\n作为一座雕版艺术品，东山大黑雕的设计灵感源自于中国古代神话传说中的“神龟”形象，这种形象在古代被广泛地用于神话创作和民间艺术中。这种“神龟”形象不仅为东山大黑雕的造型设计提供了丰富的想象空间和文化内涵，更是对中国古代神话传说的一种深厚的历史文化的传承和发扬。\\n \\n作为一座雕版艺术品，东山大黑雕的雕刻技艺以其独特的风格、精湛的工艺以及丰富的历史文化内涵而成为中国传统文化的重要组成部分。\\n \\n作为一座雕版艺术品，东山大黑雕的创作灵感源自于古代中国神话传说中的“神龟”形象。这种“神龟”形象不仅为东山大黑雕的造型设计提供了丰富的想象空间和文化内涵，更是对中国古代神话传说的一种深厚的历史文化的传承和发扬。\\n \\n作为一座雕版艺术品，东山大黑雕的雕刻技艺以其独特的风格、精湛的工艺以及丰富的历史文化内涵而成为中国传统文化的重要组成部分。\\n\\n'"
      ]
     },
     "execution_count": 8,
     "metadata": {},
     "output_type": "execute_result"
    }
   ],
   "source": [
    "chat_llm_chain.predict(human_input=\"你知道我是谁吗？\")"
   ]
  },
  {
   "cell_type": "code",
   "execution_count": null,
   "id": "e028ad07",
   "metadata": {},
   "outputs": [],
   "source": []
  }
 ],
 "metadata": {
  "kernelspec": {
   "display_name": "book",
   "language": "python",
   "name": "book"
  },
  "language_info": {
   "codemirror_mode": {
    "name": "ipython",
    "version": 3
   },
   "file_extension": ".py",
   "mimetype": "text/x-python",
   "name": "python",
   "nbconvert_exporter": "python",
   "pygments_lexer": "ipython3",
   "version": "3.11.5"
  }
 },
 "nbformat": 4,
 "nbformat_minor": 5
}
