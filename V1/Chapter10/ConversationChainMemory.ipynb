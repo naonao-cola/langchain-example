{
 "cells": [
  {
   "cell_type": "code",
   "execution_count": 5,
   "id": "021e4632",
   "metadata": {},
   "outputs": [
    {
     "data": {
      "text/plain": [
       "'彩虹的前三种颜色分别是红色、橙色和蓝色。这些颜色在光谱中排列为从红到蓝的顺序，这种顺序被称为光谱学中的“光谱分布”。\\n'"
      ]
     },
     "execution_count": 5,
     "metadata": {},
     "output_type": "execute_result"
    }
   ],
   "source": [
    "from langchain.chains import ConversationChain\n",
    "from langchain.memory import ConversationBufferMemory\n",
    "from langchain_community.chat_models import ChatOllama\n",
    "chat = ChatOllama(model=\"qwen:1.8b\")\n",
    "conversation = ConversationChain(\n",
    "    llm=chat,\n",
    "    memory=ConversationBufferMemory()\n",
    ")\n",
    "\n",
    "conversation.run(\"简要回答：彩虹的前三种颜色是什么?\")"
   ]
  },
  {
   "cell_type": "code",
   "execution_count": 6,
   "id": "b2586809",
   "metadata": {},
   "outputs": [
    {
     "data": {
      "text/plain": [
       "'接下来的4个彩虹的颜色依次是：\\n\\n1. 黄色：黄绿色是彩虹中最靠近地面的颜色，位于红色和橙色之间。\\n\\n2. 绿色：绿色是彩虹中距离地面最远的颜色，位于黄色和蓝色之间。\\n\\n3. 蓝色：蓝色是彩虹中最接近天空的颜色，位于绿色和黄色之间。\\n\\n4. 橙色：橙色是彩虹中距离天空最远的颜色，位于蓝色和紫色之间。\\n'"
      ]
     },
     "execution_count": 6,
     "metadata": {},
     "output_type": "execute_result"
    }
   ],
   "source": [
    "conversation.run(\"接下来的4个呢?\")"
   ]
  },
  {
   "cell_type": "code",
   "execution_count": null,
   "id": "22c5133c",
   "metadata": {},
   "outputs": [],
   "source": []
  }
 ],
 "metadata": {
  "kernelspec": {
   "display_name": "book",
   "language": "python",
   "name": "book"
  },
  "language_info": {
   "codemirror_mode": {
    "name": "ipython",
    "version": 3
   },
   "file_extension": ".py",
   "mimetype": "text/x-python",
   "name": "python",
   "nbconvert_exporter": "python",
   "pygments_lexer": "ipython3",
   "version": "3.11.5"
  }
 },
 "nbformat": 4,
 "nbformat_minor": 5
}
