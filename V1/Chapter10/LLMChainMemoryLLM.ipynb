{
 "cells": [
  {
   "cell_type": "code",
   "execution_count": 14,
   "id": "e05c609a",
   "metadata": {},
   "outputs": [],
   "source": [
    "from langchain.chains import LLMChain\n",
    "from langchain.llms import OpenAI\n",
    "from langchain.memory import ConversationBufferMemory\n",
    "from langchain.prompts import PromptTemplate\n",
    "from langchain_community.chat_models import ChatOllama\n",
    "chat = ChatOllama(model=\"qwen:1.8b\")"
   ]
  },
  {
   "cell_type": "code",
   "execution_count": 15,
   "id": "57d0c614",
   "metadata": {},
   "outputs": [],
   "source": [
    "template = \"\"\"你是一个正在与人类进行对话的聊天机器人。\n",
    "{chat_history}\n",
    "Human: {human_input}\n",
    "聊天机器人:\"\"\"\n",
    "\n",
    "prompt = PromptTemplate(\n",
    "    input_variables=[\"chat_history\", \"human_input\"], template=template\n",
    ")\n",
    "memory = ConversationBufferMemory(memory_key=\"chat_history\")"
   ]
  },
  {
   "cell_type": "code",
   "execution_count": 16,
   "id": "a7819ab4",
   "metadata": {},
   "outputs": [],
   "source": [
    "llm_chain = LLMChain(\n",
    "    llm=chat,\n",
    "    prompt=prompt,\n",
    "    verbose=True,\n",
    "    memory=memory,\n",
    ")"
   ]
  },
  {
   "cell_type": "code",
   "execution_count": 17,
   "id": "9d669543",
   "metadata": {},
   "outputs": [
    {
     "name": "stdout",
     "output_type": "stream",
     "text": [
      "\n",
      "\n",
      "\u001b[1m> Entering new LLMChain chain...\u001b[0m\n",
      "Prompt after formatting:\n",
      "\u001b[32;1m\u001b[1;3m你是一个正在与人类进行对话的聊天机器人。\n",
      "\n",
      "Human: 你好，朋友，我的名字是东山大王汪汪汪\n",
      "聊天机器人:\u001b[0m\n",
      "\n",
      "\u001b[1m> Finished chain.\u001b[0m\n"
     ]
    },
    {
     "data": {
      "text/plain": [
       "'你好，东山大王汪汪汪。看起来你对古老的传说和东方文化感兴趣。我是一个人工智能助手，可以提供各种信息和帮助解决问题。\\n\\n关于你的名字“东山大王汪汪汪”，这个名字可能源于古代的神话故事或文学作品中的人物名称。在中国传统文化中，很多人物被赋予了特定的头衔或者象征意义，例如“皇帝”、“皇后”等，这些头衔通常具有重要的地位和象征意义。\\n\\n至于你提到的\"汪汪汪\"，在中文文化中，“汪汪汪”可能是一种动物或者生物的形象，也可能是一种独特的方言或者俚语，具体含义取决于上下文和使用者的理解。\\n\\n总的来说，你的名字“东山大王汪汪汪”可能源于古代的神话故事、文学作品中的人物名称，也可能是某种独特的方言或俚语。在中文文化中，“汪汪汪”可能是一个动物的形象，也可能是一种独特的方言或俚语。具体含义取决于上下文和使用者的理解。\\n'"
      ]
     },
     "execution_count": 17,
     "metadata": {},
     "output_type": "execute_result"
    }
   ],
   "source": [
    "llm_chain.predict(human_input=\"你好，朋友，我的名字是东山大王汪汪汪\")"
   ]
  },
  {
   "cell_type": "code",
   "execution_count": 18,
   "id": "cb73eac3",
   "metadata": {},
   "outputs": [
    {
     "name": "stdout",
     "output_type": "stream",
     "text": [
      "\n",
      "\n",
      "\u001b[1m> Entering new LLMChain chain...\u001b[0m\n",
      "Prompt after formatting:\n",
      "\u001b[32;1m\u001b[1;3m你是一个正在与人类进行对话的聊天机器人。\n",
      "Human: 你好，朋友，我的名字是东山大王汪汪汪\n",
      "AI: 你好，东山大王汪汪汪。看起来你对古老的传说和东方文化感兴趣。我是一个人工智能助手，可以提供各种信息和帮助解决问题。\n",
      "\n",
      "关于你的名字“东山大王汪汪汪”，这个名字可能源于古代的神话故事或文学作品中的人物名称。在中国传统文化中，很多人物被赋予了特定的头衔或者象征意义，例如“皇帝”、“皇后”等，这些头衔通常具有重要的地位和象征意义。\n",
      "\n",
      "至于你提到的\"汪汪汪\"，在中文文化中，“汪汪汪”可能是一种动物或者生物的形象，也可能是一种独特的方言或者俚语，具体含义取决于上下文和使用者的理解。\n",
      "\n",
      "总的来说，你的名字“东山大王汪汪汪”可能源于古代的神话故事、文学作品中的人物名称，也可能是某种独特的方言或俚语。在中文文化中，“汪汪汪”可能是一个动物的形象，也可能是一种独特的方言或俚语。具体含义取决于上下文和使用者的理解。\n",
      "\n",
      "Human: 你知道我是谁吗？\n",
      "聊天机器人:\u001b[0m\n",
      "\n",
      "\u001b[1m> Finished chain.\u001b[0m\n"
     ]
    },
    {
     "data": {
      "text/plain": [
       "'是的，我知道你是东山大王汪汪汪。在中国传统文化中，大王通常指的是具有重要地位的人物或者象征意义的事物。在你的情况下，“东山大王汪汪汪”可能是一个与你的身份相符的大王形象，也可能是一个特定的文化符号，如一个中国的神话故事、中国传统的文学作品中的角色名称等。\\n如果你有更多的关于“东山大王汪汪汪”的信息或背景知识，请随时告诉我，我会尽我所能提供更详细和准确的信息或帮助解决问题。\\n'"
      ]
     },
     "execution_count": 18,
     "metadata": {},
     "output_type": "execute_result"
    }
   ],
   "source": [
    "llm_chain.predict(human_input=\"你知道我是谁吗？\")"
   ]
  },
  {
   "cell_type": "code",
   "execution_count": null,
   "id": "e028ad07",
   "metadata": {},
   "outputs": [],
   "source": []
  }
 ],
 "metadata": {
  "kernelspec": {
   "display_name": "book",
   "language": "python",
   "name": "book"
  },
  "language_info": {
   "codemirror_mode": {
    "name": "ipython",
    "version": 3
   },
   "file_extension": ".py",
   "mimetype": "text/x-python",
   "name": "python",
   "nbconvert_exporter": "python",
   "pygments_lexer": "ipython3",
   "version": "3.11.5"
  }
 },
 "nbformat": 4,
 "nbformat_minor": 5
}
