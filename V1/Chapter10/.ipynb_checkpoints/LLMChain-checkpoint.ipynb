{
 "cells": [
  {
   "cell_type": "code",
   "execution_count": 7,
   "id": "e05c609a",
   "metadata": {},
   "outputs": [],
   "source": [
    "from langchain.prompts import PromptTemplate\n",
    "from langchain_community.llms import Ollama\n",
    "from langchain.chains import LLMChain\n",
    "llm = Ollama(model=\"qwen:1.8b\")\n",
    "\n",
    "prompt = PromptTemplate(\n",
    "    input_variables=[\"city\"],\n",
    "    template=\" {city}的特产是什么 ?\",\n",
    ")"
   ]
  },
  {
   "cell_type": "code",
   "execution_count": 8,
   "id": "57d0c614",
   "metadata": {},
   "outputs": [
    {
     "data": {
      "text/plain": [
       "'武汉是湖北省的省会，其特产包括以下几个方面：\\n\\n1. 绿茶：武汉是中国最重要的绿茶产地之一。当地的绿茶品种丰富多样，如武夷岩茶、信阳毛尖等，这些茶叶以其独特的口感和营养价值而被广泛认可。\\n\\n2. 柑橘：武汉位于中国的东部沿海地带，是长江中下游地区的一个重要城市。这里的柑橘种类繁多，如武汉黄杨木柑、武汉白城木柑等，这些柑橘以其独特的口感和营养价值而被广泛认可。\\n\\n总的来说，武汉的特产包括绿茶、柑橘等品种丰富的农产品，这些农产品以其独特的口感和营养价值而被广泛认可。\\n'"
      ]
     },
     "execution_count": 8,
     "metadata": {},
     "output_type": "execute_result"
    }
   ],
   "source": [
    "chain = LLMChain(llm=llm, prompt=prompt)\n",
    "\n",
    "# 仅指定输入变量运行链\n",
    "chain.run(\"武汉\")"
   ]
  },
  {
   "cell_type": "code",
   "execution_count": 12,
   "id": "83420e73",
   "metadata": {},
   "outputs": [
    {
     "data": {
      "text/plain": [
       "'武汉市的市花是梅花。\\n\\n梅花，又名红梅、腊梅等，原产于中国的长江流域和以南地区。梅花以其独特的花朵形状、鲜艳的色彩以及浓郁的香味而被人们所喜爱和赞美。\\n\\n作为武汉市的市花，梅花在武汉的城市形象塑造中扮演着重要的角色。梅花不仅以其独特美丽的花朵形态、鲜艳的色彩以及浓郁的香味而被人们所喜爱和赞美，还因其深厚的文人墨客情怀和深厚的历史文化底蕴而被视为中华民族精神的重要象征，是中华文化的一颗璀璨明珠。\\n\\n因此，作为武汉市的市花，梅花在武汉的城市形象塑造中扮演着重要的角色。\\n'"
      ]
     },
     "execution_count": 12,
     "metadata": {},
     "output_type": "execute_result"
    }
   ],
   "source": [
    "prompt = PromptTemplate(\n",
    "    input_variables=[\"city\", \"topic\"],\n",
    "    template=\"{city} 的 {topic}?\",\n",
    ")\n",
    "chain = LLMChain(llm=llm, prompt=prompt)\n",
    "chain.run({\n",
    "    'city': \"武汉\",\n",
    "    'topic': \"市花\"\n",
    "    })"
   ]
  },
  {
   "cell_type": "code",
   "execution_count": null,
   "id": "dd4a31cc",
   "metadata": {},
   "outputs": [],
   "source": []
  }
 ],
 "metadata": {
  "kernelspec": {
   "display_name": "book",
   "language": "python",
   "name": "book"
  },
  "language_info": {
   "codemirror_mode": {
    "name": "ipython",
    "version": 3
   },
   "file_extension": ".py",
   "mimetype": "text/x-python",
   "name": "python",
   "nbconvert_exporter": "python",
   "pygments_lexer": "ipython3",
   "version": "3.11.5"
  }
 },
 "nbformat": 4,
 "nbformat_minor": 5
}
