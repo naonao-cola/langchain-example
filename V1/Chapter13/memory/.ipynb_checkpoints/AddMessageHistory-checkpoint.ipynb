{
 "cells": [
  {
   "cell_type": "code",
   "execution_count": 2,
   "id": "0b4da8ed",
   "metadata": {},
   "outputs": [
    {
     "data": {
      "text/plain": [
       "AIMessage(content='当然，我知道您的全名是苏轼。您是中国古代文人、政治家，也是宋代词坛的重要人物。在文学创作中，您的诗歌才华得到了广泛的认可和赞誉，包括《赤壁赋》、《水调歌头·明月几时有》等经典作品。\\n   \\n除了诗歌创作外，您还是一位哲学家，对于中国传统哲学有着深入的研究和独到见解。您对中国古代哲学的深刻理解以及对传统哲学的独特见解，都为您的文学创作和哲学研究提供了重要的理论基础和精神动力。\\n\\n总的来说，“苏东坡”这个名字不仅仅是一个名字，它更是一种文化符号、一个历史人物标志、一种文学创作形式标志，它代表了一种独特的文化风貌和人文精神风貌。\\n', response_metadata={'model': 'qwen:1.8b', 'created_at': '2024-04-07T05:21:28.2360372Z', 'message': {'role': 'assistant', 'content': ''}, 'done': True, 'total_duration': 1447985300, 'load_duration': 3542000, 'prompt_eval_count': 152, 'prompt_eval_duration': 164395000, 'eval_count': 159, 'eval_duration': 1275817000}, id='run-79a63491-67db-4b80-8f2f-7a1968f25356-0')"
      ]
     },
     "execution_count": 2,
     "metadata": {},
     "output_type": "execute_result"
    }
   ],
   "source": [
    "from langchain_core.prompts import ChatPromptTemplate, MessagesPlaceholder\n",
    "from langchain_community.chat_models import ChatOllama\n",
    "\n",
    "\n",
    "from langchain_community.chat_message_histories import ChatMessageHistory\n",
    "from langchain_core.chat_history import BaseChatMessageHistory\n",
    "from langchain_core.runnables.history import RunnableWithMessageHistory\n",
    "\n",
    "model = ChatOllama(model=\"qwen:1.8b\")\n",
    "prompt = ChatPromptTemplate.from_messages(\n",
    "    [\n",
    "        (\n",
    "            \"system\",\n",
    "            \"你是一个AI助手。\",\n",
    "        ),\n",
    "        MessagesPlaceholder(variable_name=\"history\"),\n",
    "        (\"human\", \"{input}\"),\n",
    "    ]\n",
    ")\n",
    "runnable = prompt | model\n",
    "\n",
    "\n",
    "store = {}\n",
    "\n",
    "\n",
    "def get_session_history(session_id: str) -> BaseChatMessageHistory:\n",
    "    if session_id not in store:\n",
    "        store[session_id] = ChatMessageHistory()\n",
    "    return store[session_id]\n",
    "\n",
    "\n",
    "with_message_history = RunnableWithMessageHistory(\n",
    "    runnable,\n",
    "    get_session_history,\n",
    "    input_messages_key=\"input\",\n",
    "    history_messages_key=\"history\",\n",
    ")\n",
    "with_message_history.invoke(\n",
    "    {\"input\": \"你好，很高兴认识你，我的名字叫苏东坡\"},\n",
    "    config={\"configurable\": {\"session_id\": \"session_id0001\"}},\n",
    ")\n",
    "\n",
    "with_message_history.invoke(\n",
    "    {\"input\": \"你知道我叫什么名字吗？\"},\n",
    "    config={\"configurable\": {\"session_id\": \"session_id0001\"}},\n",
    ")\n",
    "\n"
   ]
  },
  {
   "cell_type": "code",
   "execution_count": null,
   "id": "2d3b1290",
   "metadata": {},
   "outputs": [],
   "source": []
  },
  {
   "cell_type": "code",
   "execution_count": null,
   "id": "bb65898d",
   "metadata": {},
   "outputs": [],
   "source": []
  }
 ],
 "metadata": {
  "kernelspec": {
   "display_name": "book",
   "language": "python",
   "name": "book"
  },
  "language_info": {
   "codemirror_mode": {
    "name": "ipython",
    "version": 3
   },
   "file_extension": ".py",
   "mimetype": "text/x-python",
   "name": "python",
   "nbconvert_exporter": "python",
   "pygments_lexer": "ipython3",
   "version": "3.11.5"
  }
 },
 "nbformat": 4,
 "nbformat_minor": 5
}
