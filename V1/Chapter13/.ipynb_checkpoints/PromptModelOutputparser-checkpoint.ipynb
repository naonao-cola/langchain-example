{
 "cells": [
  {
   "cell_type": "code",
   "execution_count": 1,
   "id": "2b8df8fe",
   "metadata": {},
   "outputs": [],
   "source": [
    "#导入需要的依赖包\n",
    "from langchain_community.llms import Ollama\n",
    "#配置模型信息\n",
    "model = Ollama(model=\"qwen:1.8b\")"
   ]
  },
  {
   "cell_type": "code",
   "execution_count": 3,
   "id": "87a69375",
   "metadata": {},
   "outputs": [
    {
     "data": {
      "text/plain": [
       "'北京是中国的首都，也是世界历史文化名城之一。以下是一些著名的旅游景点：\\n\\n1. 故宫：作为明清两代皇家宫殿群，故宫不仅是世界上现存最大、最完整的木质结构古建筑之一，也是中国乃至世界最重要的文化遗产之一。\\n\\n2. 颐和园：与北京故宫一样，颐和园是清朝皇家园林，也是中国最大的古代皇家园林之一。颐和园以其独特的建筑风格、丰富的历史文化内涵以及优美的自然生态环境而闻名于世。\\n\\n3. 天安门广场：位于北京市中心的天安门广场，是中国近代史上的重要事件的发生地，也是中国共产党领导中国人民进行革命战争和社会主义建设的重要历史见证。\\n\\n4. 北京动物园：作为中国最大的国家动物园，北京动物园成立于1957年，是集动物繁育、科学研究、休闲旅游为一体的大型综合性国家动物园。北京动物园拥有亚洲最大的熊猫馆、中国最大型的猴山、世界最大型的鸟类博物馆等众多珍稀动物和自然景观，为游客提供了丰富的游猎体验。\\n\\n以上就是关于北京的一些著名的旅游景点，每个景点都有其独特的建筑风格、丰富的历史文化内涵以及优美的自然生态环境，对于喜欢历史文化、热爱自然风光的游客来说，都是一次非常有吸引力的文化旅游体验。\\n\\n'"
      ]
     },
     "execution_count": 3,
     "metadata": {},
     "output_type": "execute_result"
    }
   ],
   "source": [
    "from langchain_core.output_parsers import StrOutputParser\n",
    "from langchain_core.prompts import ChatPromptTemplate\n",
    "\n",
    "prompt = ChatPromptTemplate.from_template(\"告诉我关于 {city} 的旅游景点\")\n",
    "output_parser = StrOutputParser()\n",
    "\n",
    "chain = prompt | model | output_parser\n",
    "\n",
    "chain.invoke({\"city\": \"北京\"})"
   ]
  },
  {
   "cell_type": "code",
   "execution_count": null,
   "id": "bfb00ff9",
   "metadata": {},
   "outputs": [],
   "source": []
  }
 ],
 "metadata": {
  "kernelspec": {
   "display_name": "book",
   "language": "python",
   "name": "book"
  },
  "language_info": {
   "codemirror_mode": {
    "name": "ipython",
    "version": 3
   },
   "file_extension": ".py",
   "mimetype": "text/x-python",
   "name": "python",
   "nbconvert_exporter": "python",
   "pygments_lexer": "ipython3",
   "version": "3.11.5"
  }
 },
 "nbformat": 4,
 "nbformat_minor": 5
}
