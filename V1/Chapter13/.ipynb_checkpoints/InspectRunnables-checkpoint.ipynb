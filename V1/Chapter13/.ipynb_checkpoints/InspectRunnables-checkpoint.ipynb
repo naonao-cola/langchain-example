{
 "cells": [
  {
   "cell_type": "code",
   "execution_count": 13,
   "id": "18ef1c4a",
   "metadata": {},
   "outputs": [],
   "source": [
    "#导入需要的依赖包\n",
    "from langchain_core.output_parsers import StrOutputParser\n",
    "from langchain_core.prompts import ChatPromptTemplate\n",
    "from langchain_community.chat_models import ChatOllama\n",
    "#配置模型信息\n",
    "model = ChatOllama(model=\"qwen:1.8b\")"
   ]
  },
  {
   "cell_type": "code",
   "execution_count": 14,
   "id": "a68cd953",
   "metadata": {},
   "outputs": [
    {
     "name": "stdout",
     "output_type": "stream",
     "text": [
      "     +-------------+       \r\n",
      "     | PromptInput |       \r\n",
      "     +-------------+       \r\n",
      "            *              \r\n",
      "            *              \r\n",
      "            *              \r\n",
      "  +--------------------+   \r\n",
      "  | ChatPromptTemplate |   \r\n",
      "  +--------------------+   \r\n",
      "            *              \r\n",
      "            *              \r\n",
      "            *              \r\n",
      "      +------------+       \r\n",
      "      | ChatOllama |       \r\n",
      "      +------------+       \r\n",
      "            *              \r\n",
      "            *              \r\n",
      "            *              \r\n",
      "   +-----------------+     \r\n",
      "   | StrOutputParser |     \r\n",
      "   +-----------------+     \r\n",
      "            *              \r\n",
      "            *              \r\n",
      "            *              \r\n",
      "+-----------------------+  \r\n",
      "| StrOutputParserOutput |  \r\n",
      "+-----------------------+  \n"
     ]
    },
    {
     "data": {
      "text/plain": [
       "[ChatPromptTemplate(input_variables=['city'], messages=[HumanMessagePromptTemplate(prompt=PromptTemplate(input_variables=['city'], template='告诉我关于 {city} 的旅游景点'))])]"
      ]
     },
     "execution_count": 14,
     "metadata": {},
     "output_type": "execute_result"
    }
   ],
   "source": [
    "prompt = ChatPromptTemplate.from_template(\"告诉我关于 {city} 的旅游景点\")\n",
    "output_parser = StrOutputParser()\n",
    "# 使用LCEL将不同的组件拼凑成一个单链\n",
    "chain = prompt | model | output_parser\n",
    "# 执行链\n",
    "# chain.invoke({\"city\": \"北京\"})\n",
    "chain.get_graph()\n",
    "chain.get_graph().print_ascii()\n",
    "chain.get_prompts()"
   ]
  },
  {
   "cell_type": "code",
   "execution_count": null,
   "id": "4a03d186",
   "metadata": {},
   "outputs": [],
   "source": []
  }
 ],
 "metadata": {
  "kernelspec": {
   "display_name": "book",
   "language": "python",
   "name": "book"
  },
  "language_info": {
   "codemirror_mode": {
    "name": "ipython",
    "version": 3
   },
   "file_extension": ".py",
   "mimetype": "text/x-python",
   "name": "python",
   "nbconvert_exporter": "python",
   "pygments_lexer": "ipython3",
   "version": "3.11.5"
  }
 },
 "nbformat": 4,
 "nbformat_minor": 5
}
