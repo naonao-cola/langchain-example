{
 "cells": [
  {
   "cell_type": "code",
   "execution_count": 1,
   "id": "ec178fbf",
   "metadata": {},
   "outputs": [
    {
     "data": {
      "text/plain": [
       "'然喜欢北京。北京是中国的首都和经济、文化中心，具有丰富的历史文化资源，是许多人心中的理想之城。\\n'"
      ]
     },
     "execution_count": 1,
     "metadata": {},
     "output_type": "execute_result"
    }
   ],
   "source": [
    "from langchain_community.vectorstores import FAISS\n",
    "from langchain_core.output_parsers import StrOutputParser\n",
    "from langchain_core.prompts import ChatPromptTemplate\n",
    "from langchain_core.runnables import RunnablePassthrough\n",
    "from langchain_community.chat_models import ChatOllama\n",
    "from langchain_community.embeddings import OllamaEmbeddings\n",
    "model = ChatOllama(model=\"qwen:1.8b\")\n",
    "vectorstore = FAISS.from_texts(\n",
    "    [\"然喜欢北京\"], embedding= OllamaEmbeddings(model='nomic-embed-text')\n",
    ")\n",
    "retriever = vectorstore.as_retriever()\n",
    "template = \"\"\"仅根据以下上下文回答问题:\n",
    "{context}\n",
    "\n",
    "Question: {question}\n",
    "\"\"\"\n",
    "prompt = ChatPromptTemplate.from_template(template)\n",
    "\n",
    "retrieval_chain = (\n",
    "    {\"context\": retriever, \"question\": RunnablePassthrough()}\n",
    "    | prompt\n",
    "    | model\n",
    "    | StrOutputParser()\n",
    ")\n",
    "\n",
    "retrieval_chain.invoke(\"然喜欢什么?\")"
   ]
  },
  {
   "cell_type": "code",
   "execution_count": null,
   "id": "e4bf5068",
   "metadata": {},
   "outputs": [],
   "source": []
  }
 ],
 "metadata": {
  "kernelspec": {
   "display_name": "book",
   "language": "python",
   "name": "book"
  },
  "language_info": {
   "codemirror_mode": {
    "name": "ipython",
    "version": 3
   },
   "file_extension": ".py",
   "mimetype": "text/x-python",
   "name": "python",
   "nbconvert_exporter": "python",
   "pygments_lexer": "ipython3",
   "version": "3.11.5"
  }
 },
 "nbformat": 4,
 "nbformat_minor": 5
}
