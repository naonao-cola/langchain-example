{
 "cells": [
  {
   "cell_type": "code",
   "execution_count": null,
   "id": "9e85b122",
   "metadata": {},
   "outputs": [],
   "source": [
    "from langchain_community.chat_models import ChatOllama\n",
    "from langchain_core.output_parsers import StrOutputParser\n",
    "from langchain_core.prompts import ChatPromptTemplate\n",
    "model = ChatOllama(model=\"qwen:1.8b\")\n",
    "\n",
    "prompt = ChatPromptTemplate.from_template(\"规划一个3口之家五一去{city}旅游的行程\")\n",
    "\n",
    "chain = prompt | model | StrOutputParser()\n",
    "\n",
    "\n",
    "from langchain_core.output_parsers import StrOutputParser\n",
    "\n",
    "analysis_prompt = ChatPromptTemplate.from_template(\"这个旅程规划合理吗? {journey}\")\n",
    "\n",
    "composed_chain = {\"journey\": chain} | analysis_prompt | model | StrOutputParser()\n",
    "composed_chain.invoke({\"city\": \"青岛\"})"
   ]
  }
 ],
 "metadata": {
  "kernelspec": {
   "display_name": "Python 3 (ipykernel)",
   "language": "python",
   "name": "python3"
  },
  "language_info": {
   "codemirror_mode": {
    "name": "ipython",
    "version": 3
   },
   "file_extension": ".py",
   "mimetype": "text/x-python",
   "name": "python",
   "nbconvert_exporter": "python",
   "pygments_lexer": "ipython3",
   "version": "3.11.5"
  }
 },
 "nbformat": 4,
 "nbformat_minor": 5
}
