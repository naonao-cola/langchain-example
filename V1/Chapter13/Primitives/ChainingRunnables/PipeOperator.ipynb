{
 "cells": [
  {
   "cell_type": "code",
   "execution_count": 3,
   "id": "bae5a4ea",
   "metadata": {},
   "outputs": [
    {
     "data": {
      "text/plain": [
       "'青岛，山东省的一个地级市，位于中国东北部的黄海之滨。以下是青岛的一些知名景点：\\n\\n1. 八大关：八大关是中国现存最古老的关隘群，以其独特的历史文化价值和丰富的自然景观吸引着游客。\\n\\n2. 青岛奥林匹克公园：青岛奥林匹克公园是世界最大的城市主题公园之一，拥有众多的世界级顶级体育设施，如游泳池、篮球场、田径场等。\\n\\n3. 海上世界：海上世界（SeaWorld）是一家集海洋生物养殖、水族表演、餐饮娱乐为一体的大型海洋旅游景区，拥有众多的海洋动物，包括鲨鱼、海豚、鲸鱼、章鱼、甲壳虫等等。\\n\\n'"
      ]
     },
     "execution_count": 3,
     "metadata": {},
     "output_type": "execute_result"
    }
   ],
   "source": [
    "from langchain_community.chat_models import ChatOllama\n",
    "from langchain_core.output_parsers import StrOutputParser\n",
    "from langchain_core.prompts import ChatPromptTemplate\n",
    "model = ChatOllama(model=\"qwen:1.8b\")\n",
    "\n",
    "prompt = ChatPromptTemplate.from_template(\"请问 {city} 的景点有哪些\")\n",
    "\n",
    "chain = prompt | model | StrOutputParser()\n",
    "\n",
    "chain.invoke({\"city\": \"青岛\"})"
   ]
  },
  {
   "cell_type": "code",
   "execution_count": null,
   "id": "ce089d7b",
   "metadata": {},
   "outputs": [],
   "source": []
  }
 ],
 "metadata": {
  "kernelspec": {
   "display_name": "book",
   "language": "python",
   "name": "book"
  },
  "language_info": {
   "codemirror_mode": {
    "name": "ipython",
    "version": 3
   },
   "file_extension": ".py",
   "mimetype": "text/x-python",
   "name": "python",
   "nbconvert_exporter": "python",
   "pygments_lexer": "ipython3",
   "version": "3.11.5"
  }
 },
 "nbformat": 4,
 "nbformat_minor": 5
}
