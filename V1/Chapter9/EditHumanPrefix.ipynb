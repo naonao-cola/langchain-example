{
 "cells": [
  {
   "cell_type": "code",
   "execution_count": 1,
   "id": "5a3ec4a0",
   "metadata": {},
   "outputs": [
    {
     "name": "stdout",
     "output_type": "stream",
     "text": [
      "\n",
      "\n",
      "\u001b[1m> Entering new ConversationChain chain...\u001b[0m\n",
      "Prompt after formatting:\n",
      "\u001b[32;1m\u001b[1;3m下面是人类和人工智能之间的友好对话。人工智能很健谈，并从其上下文中提供了许多具体的细节。如果人工智能不知道问题的答案，它会诚实地说它不知道。\n",
      "Current conversation:\n",
      "\n",
      "Friend: 嗨!\n",
      "AI:\u001b[0m\n",
      "\n",
      "\u001b[1m> Finished chain.\u001b[0m\n"
     ]
    },
    {
     "data": {
      "text/plain": [
       "'AI: 你好！我可以提供一些关于人类的信息。例如，我们是生物，拥有细胞、组织和器官等层次结构。我们还具有复杂的生理过程，如呼吸、消化、排泄等。\\n在我们的语言中，我们使用词汇来描述物体、事件、行为以及人与人之间的关系等。这些词汇通常由字母或音节组成，每个字都代表一种特定的含义。\\n总的来说，人工智能虽然无法直接回答问题，但它可以通过从上下文中获取信息来提供关于人类的信息和帮助理解复杂的问题。\\n'"
      ]
     },
     "execution_count": 1,
     "metadata": {},
     "output_type": "execute_result"
    }
   ],
   "source": [
    "from langchain_community.llms import Ollama\n",
    "from langchain.chains import ConversationChain\n",
    "from langchain.memory import ConversationBufferMemory\n",
    "from langchain.prompts.prompt import PromptTemplate\n",
    "llm = Ollama(model=\"qwen:1.8b\")\n",
    "\n",
    "template = \"\"\"下面是人类和人工智能之间的友好对话。人工智能很健谈，并从其上下文中提供了许多具体的细节。如果人工智能不知道问题的答案，它会诚实地说它不知道。\n",
    "Current conversation:\n",
    "{history}\n",
    "Friend: {input}\n",
    "AI:\"\"\"\n",
    "PROMPT = PromptTemplate(input_variables=[\"history\", \"input\"], template=template)\n",
    "conversation = ConversationChain(\n",
    "    prompt=PROMPT,\n",
    "    llm=llm,\n",
    "    verbose=True,\n",
    "    memory=ConversationBufferMemory(human_prefix=\"Friend\"),\n",
    ")\n",
    "conversation.predict(input=\"嗨!\")"
   ]
  },
  {
   "cell_type": "code",
   "execution_count": null,
   "id": "a7c602d2",
   "metadata": {},
   "outputs": [],
   "source": []
  }
 ],
 "metadata": {
  "kernelspec": {
   "display_name": "book",
   "language": "python",
   "name": "book"
  },
  "language_info": {
   "codemirror_mode": {
    "name": "ipython",
    "version": 3
   },
   "file_extension": ".py",
   "mimetype": "text/x-python",
   "name": "python",
   "nbconvert_exporter": "python",
   "pygments_lexer": "ipython3",
   "version": "3.11.5"
  }
 },
 "nbformat": 4,
 "nbformat_minor": 5
}
