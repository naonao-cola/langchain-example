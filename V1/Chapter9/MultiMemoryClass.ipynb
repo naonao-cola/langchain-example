{
 "cells": [
  {
   "cell_type": "code",
   "execution_count": 6,
   "id": "5a3ec4a0",
   "metadata": {},
   "outputs": [
    {
     "name": "stdout",
     "output_type": "stream",
     "text": [
      "\n",
      "\n",
      "\u001b[1m> Entering new ConversationChain chain...\u001b[0m\n",
      "Prompt after formatting:\n",
      "\u001b[32;1m\u001b[1;3m下面是人类和人工智能之间的友好对话。人工智能很健谈，并从其上下文中提供了许多具体的细节。如果人工智能不知道问题的答案，它会诚实地说它不知道。  \n",
      "  \n",
      "Summary of conversation:  \n",
      "  \n",
      "Current conversation:  \n",
      "  \n",
      "Human: Hi!  \n",
      "AI:\u001b[0m\n",
      "\n",
      "\u001b[1m> Finished chain.\u001b[0m\n",
      "\n",
      "\n",
      "\u001b[1m> Entering new ConversationChain chain...\u001b[0m\n",
      "Prompt after formatting:\n",
      "\u001b[32;1m\u001b[1;3m下面是人类和人工智能之间的友好对话。人工智能很健谈，并从其上下文中提供了许多具体的细节。如果人工智能不知道问题的答案，它会诚实地说它不知道。  \n",
      "  \n",
      "Summary of conversation:  \n",
      "The human asks what the AI thinks of artificial intelligence. The AI thinks artificial intelligence is a force for good because it will help humans reach their full potential.\n",
      "  \n",
      "Current conversation:  \n",
      "Human: Hi!\n",
      "AI: Hello! How can I help you today?\n",
      "  \n",
      "Human: 讲个笑话  \n",
      "AI:\u001b[0m\n",
      "\n",
      "\u001b[1m> Finished chain.\u001b[0m\n"
     ]
    },
    {
     "data": {
      "text/plain": [
       "'为什么电脑总是先启动？因为它们都装有“电源管理器”。\\n'"
      ]
     },
     "execution_count": 6,
     "metadata": {},
     "output_type": "execute_result"
    }
   ],
   "source": [
    "# 导入所需的模块和类  \n",
    "from langchain_community.llms import Ollama  # 导入Ollama模型，这是langchain_community提供的一个LLM封装  \n",
    "from langchain.chains import ConversationChain  # 导入用于构建会话链的类  \n",
    "from langchain.prompts import PromptTemplate #导入用于构建自定义提示模板的类\n",
    "from langchain.memory import (  # 导入与记忆相关的类  \n",
    "    ConversationBufferMemory,  # 会话缓冲区记忆，用于存储会话的历史记录  \n",
    "    CombinedMemory,  # 组合记忆，允许组合多个记忆源  \n",
    "    ConversationSummaryMemory,  # 会话摘要记忆，可以生成会话的摘要  \n",
    ")  \n",
    "  \n",
    "# 初始化一个Ollama模型实例，模型名为\"qwen:1.8b\"  \n",
    "llm = Ollama(model=\"qwen:1.8b\")  \n",
    "  \n",
    "# 创建一个会话缓冲区记忆对象，用于存储对话的历史记录  \n",
    "conv_memory = ConversationBufferMemory(  \n",
    "    memory_key=\"chat_history_lines\", input_key=\"input\"  \n",
    ")  \n",
    "  \n",
    "# 创建一个会话摘要记忆对象，用于生成对话的摘要  \n",
    "summary_memory = ConversationSummaryMemory(llm=llm, input_key=\"input\")  \n",
    "  \n",
    "# 使用CombinedMemory组合上述两个记忆对象  \n",
    "memory = CombinedMemory(memories=[conv_memory, summary_memory])  \n",
    "  \n",
    "# 定义一个默认的模板，用于构建与LLM交互的提示  \n",
    "_DEFAULT_TEMPLATE = \"\"\"下面是人类和人工智能之间的友好对话。人工智能很健谈，并从其上下文中提供了许多具体的细节。如果人工智能不知道问题的答案，它会诚实地说它不知道。  \n",
    "  \n",
    "Summary of conversation:  \n",
    "{history}  \n",
    "Current conversation:  \n",
    "{chat_history_lines}  \n",
    "Human: {input}  \n",
    "AI:\"\"\"  \n",
    "  \n",
    "# 使用PromptTemplate根据默认模板创建一个提示对象  \n",
    "PROMPT = PromptTemplate(  \n",
    "    input_variables=[\"history\", \"input\", \"chat_history_lines\"],  \n",
    "    template=_DEFAULT_TEMPLATE,  \n",
    ")  \n",
    "  \n",
    "# 创建一个会话链对象，传入LLM模型、是否开启详细输出、记忆对象和提示模板  \n",
    "conversation = ConversationChain(llm=llm, verbose=True, memory=memory, prompt=PROMPT)  \n",
    "  \n",
    "# 运行会话链，输入\"Hi!\"作为对话的开始  \n",
    "conversation.run(\"Hi!\")  \n",
    "  \n",
    "# 再次运行会话链，输入\"讲个笑话\"作为下一个对话内容  \n",
    "conversation.run(\"讲个笑话\")"
   ]
  },
  {
   "cell_type": "code",
   "execution_count": null,
   "id": "a7c602d2",
   "metadata": {},
   "outputs": [],
   "source": []
  },
  {
   "cell_type": "code",
   "execution_count": null,
   "id": "2036e4a6",
   "metadata": {},
   "outputs": [],
   "source": []
  }
 ],
 "metadata": {
  "kernelspec": {
   "display_name": "book",
   "language": "python",
   "name": "book"
  },
  "language_info": {
   "codemirror_mode": {
    "name": "ipython",
    "version": 3
   },
   "file_extension": ".py",
   "mimetype": "text/x-python",
   "name": "python",
   "nbconvert_exporter": "python",
   "pygments_lexer": "ipython3",
   "version": "3.11.5"
  }
 },
 "nbformat": 4,
 "nbformat_minor": 5
}
