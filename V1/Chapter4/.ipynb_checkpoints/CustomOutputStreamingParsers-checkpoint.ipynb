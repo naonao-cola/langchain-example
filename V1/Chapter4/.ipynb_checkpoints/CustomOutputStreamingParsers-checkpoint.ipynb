{
 "cells": [
  {
   "cell_type": "code",
   "execution_count": 9,
   "id": "07ee0bfa",
   "metadata": {},
   "outputs": [
    {
     "ename": "SyntaxError",
     "evalue": "invalid syntax. Maybe you meant '==' or ':=' instead of '='? (2688740527.py, line 32)",
     "output_type": "error",
     "traceback": [
      "\u001b[1;36m  Cell \u001b[1;32mIn[9], line 32\u001b[1;36m\u001b[0m\n\u001b[1;33m    chunk, end=\"|\", flush=True\u001b[0m\n\u001b[1;37m           ^\u001b[0m\n\u001b[1;31mSyntaxError\u001b[0m\u001b[1;31m:\u001b[0m invalid syntax. Maybe you meant '==' or ':=' instead of '='?\n"
     ]
    }
   ],
   "source": [
    "# 从 typing 模块导入 Iterable 类型，用于表示可迭代对象  \n",
    "from typing import Iterable  \n",
    "  \n",
    "# 从 langchain_community.llms 模块导入 Ollama 类  \n",
    "from langchain_community.llms import Ollama  \n",
    "  \n",
    "# 从 langchain_core.messages 模块导入 AIMessage 和 AIMessageChunk 类，用于处理 AI 消息  \n",
    "from langchain_core.messages import AIMessage, AIMessageChunk  \n",
    "  \n",
    "# 创建一个 Ollama 对象，使用 \"qwen:1.8b\" 模型  \n",
    "llm = Ollama(model=\"qwen:1.8b\")  \n",
    "  \n",
    "def parse(ai_message: AIMessage) -> str:  \n",
    "    \"\"\"  \n",
    "    解析 AI 消息。  \n",
    "      \n",
    "    参数:  \n",
    "    ai_message (AIMessage): 要解析的 AI 消息对象  \n",
    "      \n",
    "    返回:  \n",
    "    str: 解析后的字符串，这里简单地将消息中的字母大小写进行互换  \n",
    "    \"\"\"  \n",
    "    # 使用swapcase() 方法来互换字母大小写，并返回结果  \n",
    "    return ai_message.swapcase()  \n",
    "  \n",
    "# 使用管道操作符 '|' 将 llm 对象和 parse 函数连接起来，形成一个处理链  \n",
    "chain = llm | parse  \n",
    "  \n",
    "# 调用链的 invoke 方法，并传入字符串 \"hello\" 作为输入  \n",
    "chain.invoke(\"hello\")"
   ]
  },
  {
   "cell_type": "code",
   "execution_count": null,
   "id": "ee9412df",
   "metadata": {},
   "outputs": [],
   "source": []
  }
 ],
 "metadata": {
  "kernelspec": {
   "display_name": "book",
   "language": "python",
   "name": "book"
  },
  "language_info": {
   "codemirror_mode": {
    "name": "ipython",
    "version": 3
   },
   "file_extension": ".py",
   "mimetype": "text/x-python",
   "name": "python",
   "nbconvert_exporter": "python",
   "pygments_lexer": "ipython3",
   "version": "3.11.5"
  }
 },
 "nbformat": 4,
 "nbformat_minor": 5
}
