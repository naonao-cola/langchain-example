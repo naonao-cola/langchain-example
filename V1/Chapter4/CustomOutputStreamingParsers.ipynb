{
 "cells": [
  {
   "cell_type": "code",
   "execution_count": 7,
   "id": "07ee0bfa",
   "metadata": {
    "scrolled": true
   },
   "outputs": [
    {
     "data": {
      "text/plain": [
       "\"hELLO! hOW CAN i ASSIST YOU TODAY? wHETHER YOU NEED INFORMATION ON A PARTICULAR TOPIC, WANT TO LEARN SOME NEW SKILLS OR JUST NEED SOMEONE TO TALK TO, i'M HERE TO LISTEN. pLEASE FEEL FREE TO SHARE ANY THOUGHTS OR CONCERNS YOU MIGHT HAVE WITH ME. i'LL DO MY BEST TO PROVIDE HELPFUL AND INFORMATIVE RESPONSES. tHANK YOU FOR CHOOSING TO CONNECT WITH ME!\\n\""
      ]
     },
     "execution_count": 7,
     "metadata": {},
     "output_type": "execute_result"
    }
   ],
   "source": [
    "# 从 typing 模块导入 Iterable 类型，用于表示可迭代对象  \n",
    "from typing import Iterable  \n",
    "  \n",
    "# 从 langchain_community.llms 模块导入 Ollama 类  \n",
    "from langchain_community.llms import Ollama  \n",
    "  \n",
    "# 从 langchain_core.messages 模块导入 AIMessage 和 AIMessageChunk 类，用于处理 AI 消息  \n",
    "from langchain_core.messages import AIMessage, AIMessageChunk \n",
    "\n",
    "from langchain_core.runnables import RunnableGenerator  \n",
    "# 创建一个 Ollama 对象，使用 \"qwen:1.8b\" 模型  \n",
    "llm = Ollama(model=\"qwen:1.8b\")  \n",
    "  \n",
    "def streaming_parse(chunks: Iterable[AIMessageChunk]) -> Iterable[str]:\n",
    "    for chunk in chunks:\n",
    "        yield chunk.swapcase()\n",
    "streaming_parse = RunnableGenerator(streaming_parse)  \n",
    "# 使用管道操作符 '|' 将 llm 对象和 parse 函数连接起来，形成一个处理链  \n",
    "chain = llm | streaming_parse  \n",
    "\n",
    "# 调用链的 invoke 方法，并传入字符串 \"hello\" 作为输入  \n",
    "chain.invoke(\"hello\")\n",
    "# for chunk in chain.stream(\"hello\"):\n",
    "#     print(chunk, end=\"|\", flush=True)"
   ]
  },
  {
   "cell_type": "code",
   "execution_count": null,
   "id": "ee9412df",
   "metadata": {},
   "outputs": [],
   "source": []
  }
 ],
 "metadata": {
  "kernelspec": {
   "display_name": "book",
   "language": "python",
   "name": "book"
  },
  "language_info": {
   "codemirror_mode": {
    "name": "ipython",
    "version": 3
   },
   "file_extension": ".py",
   "mimetype": "text/x-python",
   "name": "python",
   "nbconvert_exporter": "python",
   "pygments_lexer": "ipython3",
   "version": "3.11.5"
  }
 },
 "nbformat": 4,
 "nbformat_minor": 5
}
