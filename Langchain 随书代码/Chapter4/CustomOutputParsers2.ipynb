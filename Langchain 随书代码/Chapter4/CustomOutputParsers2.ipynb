{
 "cells": [
  {
   "cell_type": "code",
   "execution_count": 24,
   "id": "07ee0bfa",
   "metadata": {},
   "outputs": [
    {
     "data": {
      "text/plain": [
       "[True, False]"
      ]
     },
     "execution_count": 24,
     "metadata": {},
     "output_type": "execute_result"
    }
   ],
   "source": [
    "from langchain_core.exceptions import OutputParserException  # 导入OutputParserException异常类  \n",
    "from langchain_core.output_parsers import BaseOutputParser  # 导入BaseOutputParser基类  \n",
    "# 从 langchain_community.llms 模块导入 Ollama 类  \n",
    "from langchain_community.llms import Ollama  \n",
    "# 创建一个 Ollama 对象，使用 \"qwen:1.8b\" 模型  \n",
    "llm = Ollama(model=\"qwen:1.8b\")    \n",
    "# 定义了一个继承自BaseOutputParser泛型类并指定返回类型为bool的BooleanOutputParser类  \n",
    "class BooleanOutputParser(BaseOutputParser[bool]):  \n",
    "    \"\"\"Custom boolean parser.\"\"\"  # 类的文档字符串  \n",
    "  \n",
    "    # 定义了两个类属性，表示布尔值\"真\"和\"假\"的字符串表示  \n",
    "    true_val: str = \"YES\"  \n",
    "    false_val: str = \"NO\"  \n",
    "  \n",
    "    # parse方法，用于将传入的字符串解析为布尔值  \n",
    "    def parse(self, text: str) -> bool:  \n",
    "        # 清理文本，去除首尾空格并转换为大写  \n",
    "        cleaned_text = text.strip().upper()  \n",
    "        # 检查清理后的文本是否匹配\"真\"或\"假\"的值  \n",
    "        if cleaned_text not in (self.true_val.upper(), self.false_val.upper()):  \n",
    "            # 如果不匹配，则抛出异常  \n",
    "            raise OutputParserException(  \n",
    "                f\"BooleanOutputParser expected output value to either be \"  \n",
    "                f\"{self.true_val} or {self.false_val} (case-insensitive). \"  \n",
    "                f\"Received {cleaned_text}.\"  \n",
    "            )  \n",
    "        # 返回解析结果，如果cleaned_text等于\"YES\"，则返回True，否则返回False  \n",
    "        return cleaned_text == self.true_val.upper()  \n",
    "  \n",
    "    # _type属性，返回解析器的类型字符串  \n",
    "    @property  \n",
    "    def _type(self) -> str:  \n",
    "        return \"boolean_output_parser\"  \n",
    "  \n",
    "# 创建BooleanOutputParser类的实例  \n",
    "parser = BooleanOutputParser()  \n",
    "chain = llm | parser\n",
    "chain.invoke(\"请回复 yes\")\n",
    "\n",
    "# 调用实例的batch方法，批量解析字符串列表  \n",
    "parser.batch([\"YES\", \"NO\"])  \n",
    "  \n",
    "# 尝试异步调用实例的abatch方法  \n",
    "await parser.abatch([\"YES\", \"NO\"])"
   ]
  },
  {
   "cell_type": "code",
   "execution_count": null,
   "id": "ee9412df",
   "metadata": {},
   "outputs": [],
   "source": []
  }
 ],
 "metadata": {
  "kernelspec": {
   "display_name": "book",
   "language": "python",
   "name": "book"
  },
  "language_info": {
   "codemirror_mode": {
    "name": "ipython",
    "version": 3
   },
   "file_extension": ".py",
   "mimetype": "text/x-python",
   "name": "python",
   "nbconvert_exporter": "python",
   "pygments_lexer": "ipython3",
   "version": "3.11.5"
  }
 },
 "nbformat": 4,
 "nbformat_minor": 5
}
