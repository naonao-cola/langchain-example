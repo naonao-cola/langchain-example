{
 "cells": [
  {
   "cell_type": "code",
   "execution_count": 34,
   "id": "ae6ea88d",
   "metadata": {},
   "outputs": [
    {
     "name": "stdout",
     "output_type": "stream",
     "text": [
      "CPU times: total: 31.2 ms\n",
      "Wall time: 2.71 s\n"
     ]
    },
    {
     "data": {
      "text/plain": [
       "'中国首都是北京。\\n\\n北京位于华北地区，是中华人民共和国的首都和直辖市。北京市总面积16,411平方千米（5.9万平方英里），是中国面积最大的省区和直辖市。北京被誉为“古都明珠，龙城凤髓”，是中国历史文化名城之一。\\n'"
      ]
     },
     "execution_count": 34,
     "metadata": {},
     "output_type": "execute_result"
    }
   ],
   "source": [
    "%%time\n",
    "#导入需要的依赖包\n",
    "from langchain_community.llms import Ollama\n",
    "from langchain.globals import set_llm_cache\n",
    "from langchain.cache import InMemoryCache\n",
    "\n",
    "set_llm_cache(InMemoryCache())\n",
    "\n",
    "#配置模型信息\n",
    "llm = Ollama(model=\"qwen:1.8b\")\n",
    "\n",
    "\n",
    "#调用大语言模型的预测功能\n",
    "llm.predict(\"中国的首都是哪个城市？\")\n"
   ]
  },
  {
   "cell_type": "code",
   "execution_count": null,
   "id": "c22d52ff",
   "metadata": {},
   "outputs": [],
   "source": []
  }
 ],
 "metadata": {
  "kernelspec": {
   "display_name": "book",
   "language": "python",
   "name": "book"
  },
  "language_info": {
   "codemirror_mode": {
    "name": "ipython",
    "version": 3
   },
   "file_extension": ".py",
   "mimetype": "text/x-python",
   "name": "python",
   "nbconvert_exporter": "python",
   "pygments_lexer": "ipython3",
   "version": "3.11.5"
  }
 },
 "nbformat": 4,
 "nbformat_minor": 5
}
