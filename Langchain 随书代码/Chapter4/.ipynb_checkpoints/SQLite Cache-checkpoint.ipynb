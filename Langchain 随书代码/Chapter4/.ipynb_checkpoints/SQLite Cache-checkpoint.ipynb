{
 "cells": [
  {
   "cell_type": "code",
   "execution_count": 55,
   "id": "d7e15951",
   "metadata": {},
   "outputs": [
    {
     "name": "stdout",
     "output_type": "stream",
     "text": [
      "CPU times: total: 0 ns\n",
      "Wall time: 3.09 ms\n"
     ]
    },
    {
     "data": {
      "text/plain": [
       "'中国的首都是北京。北京是中华人民共和国的首都，也是中国历史文化名城之一，拥有众多世界文化遗产和重要科研机构。\\n\\n北京市位于华北平原北部，东临渤海，北靠燕山山脉，西接太行山脉。全市总面积1680.5平方千米，下辖36个区县和1个国家级新区（北京经济技术开发区）。作为中国最重要的城市之一，北京市在经济、社会、文化等方面都发挥了重要的作用。\\n\\n综上所述，中国的首都是北京。北京是中国历史文化名城之一，拥有众多世界文化遗产和重要科研机构。北京在经济、社会、文化等方面都发挥了重要的作用。\\n'"
      ]
     },
     "execution_count": 55,
     "metadata": {},
     "output_type": "execute_result"
    }
   ],
   "source": [
    "%%time\n",
    "#导入需要的依赖包\n",
    "from langchain_community.llms import Ollama\n",
    "from langchain.globals import set_llm_cache\n",
    "from langchain.cache import SQLiteCache\n",
    "set_llm_cache(SQLiteCache(database_path=\".langchain.db\"))\n",
    "\n",
    "\n",
    "\n",
    "#配置模型信息\n",
    "llm = Ollama(model=\"qwen:1.8b\")\n",
    "\n",
    "#调用大语言模型的预测功能\n",
    "\n",
    "llm.predict(\"中国的首都是哪个城市？\")\n"
   ]
  },
  {
   "cell_type": "code",
   "execution_count": null,
   "id": "dacbaf05",
   "metadata": {},
   "outputs": [],
   "source": []
  },
  {
   "cell_type": "code",
   "execution_count": null,
   "id": "c27b0c10",
   "metadata": {},
   "outputs": [],
   "source": []
  },
  {
   "cell_type": "code",
   "execution_count": null,
   "id": "4dabc4d3",
   "metadata": {},
   "outputs": [],
   "source": []
  }
 ],
 "metadata": {
  "kernelspec": {
   "display_name": "book",
   "language": "python",
   "name": "book"
  },
  "language_info": {
   "codemirror_mode": {
    "name": "ipython",
    "version": 3
   },
   "file_extension": ".py",
   "mimetype": "text/x-python",
   "name": "python",
   "nbconvert_exporter": "python",
   "pygments_lexer": "ipython3",
   "version": "3.11.5"
  }
 },
 "nbformat": 4,
 "nbformat_minor": 5
}
