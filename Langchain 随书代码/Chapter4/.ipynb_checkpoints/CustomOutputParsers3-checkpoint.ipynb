{
 "cells": [
  {
   "cell_type": "code",
   "execution_count": 10,
   "id": "07ee0bfa",
   "metadata": {},
   "outputs": [
    {
     "data": {
      "text/plain": [
       "'hELLO! hOW CAN i ASSIST YOU TODAY? iS THERE SOMETHING SPECIFIC YOU WOULD LIKE TO KNOW OR DISCUSS? i AM HERE TO PROVIDE HELPFUL INFORMATION AND SUPPORT, SO FEEL FREE TO ASK ME ANYTHING YOU NEED. tHANK YOU FOR CHOOSING TO TALK WITH ME. hAVE A GREAT DAY!\\n'"
      ]
     },
     "execution_count": 10,
     "metadata": {},
     "output_type": "execute_result"
    }
   ],
   "source": [
    "from typing import List\n",
    "from langchain_core.exceptions import OutputParserException\n",
    "from langchain_core.messages import AIMessage\n",
    "from langchain_core.output_parsers import BaseGenerationOutputParser\n",
    "from langchain_core.outputs import ChatGeneration, Generation\n",
    "from langchain_community.chat_models import ChatOllama\n",
    "\n",
    "class StrInvertCase(BaseGenerationOutputParser[str]):\n",
    "    \"\"\"反转消息中字符大小写的示例解析器。\"\"\"\n",
    "\n",
    "    def parse_result(self, result: List[Generation], *, partial: bool = False) -> str:\n",
    "        \"\"\"将模型生成列表解析为特定格式。\n",
    "       参数：\n",
    "       result：要解析的Generations的列表。假设Generations为单个模型输入的不同候选输出。\n",
    "       许多解析器假设只传递了一个生成。我们将为此断言\n",
    "       部分：是否允许部分结果。这用于解析器支持流媒体。\n",
    "        \"\"\"\n",
    "        if len(result) != 1:\n",
    "            raise NotImplementedError(\n",
    "                \"此输出解析器只能与单个生成一起使用。\"\n",
    "            )\n",
    "        generation = result[0]\n",
    "        if not isinstance(generation, ChatGeneration):\n",
    "            # Say that this one only works with chat generations\n",
    "            raise OutputParserException(\n",
    "                \"该输出解析器只能与聊天生成一起使用。\"\n",
    "            )\n",
    "        return generation.message.content.swapcase()\n",
    "\n",
    "# 创建一个 Ollama 对象，使用 \"qwen:1.8b\" 模型  \n",
    "chat = ChatOllama(model=\"qwen:1.8b\")\n",
    "chain = chat | StrInvertCase()\n",
    "chain.invoke(\"Hellow\")"
   ]
  },
  {
   "cell_type": "code",
   "execution_count": null,
   "id": "cf5810e8",
   "metadata": {},
   "outputs": [],
   "source": []
  }
 ],
 "metadata": {
  "kernelspec": {
   "display_name": "book",
   "language": "python",
   "name": "book"
  },
  "language_info": {
   "codemirror_mode": {
    "name": "ipython",
    "version": 3
   },
   "file_extension": ".py",
   "mimetype": "text/x-python",
   "name": "python",
   "nbconvert_exporter": "python",
   "pygments_lexer": "ipython3",
   "version": "3.11.5"
  }
 },
 "nbformat": 4,
 "nbformat_minor": 5
}
