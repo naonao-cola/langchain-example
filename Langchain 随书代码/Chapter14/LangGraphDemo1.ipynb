{
 "cells": [
  {
   "cell_type": "code",
   "execution_count": 3,
   "id": "18ef1c4a",
   "metadata": {},
   "outputs": [
    {
     "data": {
      "text/plain": [
       "[HumanMessage(content='1 + 1是多少?', id='18371109-d11c-47e2-a761-0ecd2b1bb6ad'),\n",
       " AIMessage(content='1 + 1 是 2。\\n', response_metadata={'model': 'qwen:1.8b', 'created_at': '2024-04-06T02:14:05.1361411Z', 'message': {'role': 'assistant', 'content': ''}, 'done': True, 'total_duration': 364679500, 'load_duration': 542200, 'prompt_eval_duration': 280568000, 'eval_count': 11, 'eval_duration': 83069000}, id='run-93ea6498-f21a-45d7-99b3-74f527709abb-0')]"
      ]
     },
     "execution_count": 3,
     "metadata": {},
     "output_type": "execute_result"
    }
   ],
   "source": [
    "from langchain_community.chat_models import ChatOllama\n",
    "from langchain_core.messages import HumanMessage\n",
    "from langgraph.graph import END, MessageGraph\n",
    "model = ChatOllama(model=\"qwen:1.8b\")\n",
    "\n",
    "graph = MessageGraph()\n",
    "\n",
    "graph.add_node(\"oracle\", model)\n",
    "graph.add_edge(\"oracle\", END)\n",
    "\n",
    "graph.set_entry_point(\"oracle\")\n",
    "\n",
    "runnable = graph.compile()\n",
    "\n",
    "runnable.invoke(HumanMessage(\"1 + 1是多少?\"))"
   ]
  },
  {
   "cell_type": "code",
   "execution_count": null,
   "id": "4a03d186",
   "metadata": {},
   "outputs": [],
   "source": []
  }
 ],
 "metadata": {
  "kernelspec": {
   "display_name": "book",
   "language": "python",
   "name": "book"
  },
  "language_info": {
   "codemirror_mode": {
    "name": "ipython",
    "version": 3
   },
   "file_extension": ".py",
   "mimetype": "text/x-python",
   "name": "python",
   "nbconvert_exporter": "python",
   "pygments_lexer": "ipython3",
   "version": "3.11.5"
  }
 },
 "nbformat": 4,
 "nbformat_minor": 5
}
