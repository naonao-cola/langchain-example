{
 "cells": [
  {
   "cell_type": "code",
   "execution_count": 4,
   "id": "9a581410",
   "metadata": {},
   "outputs": [],
   "source": [
    "#导入需要的依赖包\n",
    "from langchain_core.output_parsers import StrOutputParser\n",
    "from langchain_core.prompts import ChatPromptTemplate\n",
    "from langchain_community.chat_models import ChatOllama\n",
    "#配置模型信息\n",
    "model = ChatOllama(model=\"qwen:1.8b\")"
   ]
  },
  {
   "cell_type": "code",
   "execution_count": 5,
   "id": "4b68d531",
   "metadata": {},
   "outputs": [
    {
     "data": {
      "text/plain": [
       "\"北京是中国的首都，拥有众多令人印象深刻的旅游景点。以下是一些主要的旅游景点：\\n\\n1. **故宫**（the Forbidden City）：这是中国明清两代的皇家宫殿，也是世界上现存规模最大、保存最为完整的木质结构古建筑群之一。\\n\\n2. **天安门广场**（Tian'anmen Square）：这里是北京市中心的一个广场，是中国人民解放军建立以来举行阅兵式的地方。广场上的主体建筑是天安门城楼和天安门广场升旗台。\\n\\n3. **颐和园**（Yuan Garden）：这是中国清朝时期皇家园林，也是世界上现存规模最大、保存最为完整的木质结构古建筑群之一，以昆明湖为主体，沿湖四周布置了众多的建筑物和景点。\\n\\n4. **长城**（Great Wall）：这是中国古代劳动人民修建的一条世界闻名的军事防御工程。长城全长约13,000公里，包括陆上长城、山海关关隘等重要部分，是中华民族历史文化的重要标志之一。\\n\""
      ]
     },
     "execution_count": 5,
     "metadata": {},
     "output_type": "execute_result"
    }
   ],
   "source": [
    "prompt = ChatPromptTemplate.from_template(\"告诉我关于 {city} 的旅游景点\")\n",
    "output_parser = StrOutputParser()\n",
    "# 使用LCEL将不同的组件拼凑成一个单链\n",
    "chain = prompt | model | output_parser\n",
    "# 执行链\n",
    "chain.invoke({\"city\": \"北京\"})"
   ]
  },
  {
   "cell_type": "code",
   "execution_count": null,
   "id": "2ec460a8",
   "metadata": {},
   "outputs": [],
   "source": []
  }
 ],
 "metadata": {
  "kernelspec": {
   "display_name": "book",
   "language": "python",
   "name": "book"
  },
  "language_info": {
   "codemirror_mode": {
    "name": "ipython",
    "version": 3
   },
   "file_extension": ".py",
   "mimetype": "text/x-python",
   "name": "python",
   "nbconvert_exporter": "python",
   "pygments_lexer": "ipython3",
   "version": "3.11.5"
  }
 },
 "nbformat": 4,
 "nbformat_minor": 5
}
