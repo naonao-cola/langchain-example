{
 "cells": [
  {
   "cell_type": "code",
   "execution_count": 3,
   "id": "ec178fbf",
   "metadata": {},
   "outputs": [
    {
     "name": "stderr",
     "output_type": "stream",
     "text": [
      "UsageError: Line magic function `%%timeit` not found.\n"
     ]
    }
   ],
   "source": [
    "from langchain_community.chat_models import ChatOllama\n",
    "from langchain_community.embeddings import OllamaEmbeddings\n",
    "from langchain_core.prompts import ChatPromptTemplate\n",
    "from langchain_core.runnables import RunnableParallel\n",
    "model = ChatOllama(model=\"qwen:1.8b\")\n",
    "\n",
    "food_chain = ChatPromptTemplate.from_template(\"告诉我 {city} 有什么好吃的\") | model\n",
    "industry_chain = (\n",
    "    ChatPromptTemplate.from_template(\"告诉我 {city} 有什么产业\") | model\n",
    ")\n",
    "\n",
    "map_chain = RunnableParallel(food=food_chain, industry=industry_chain)\n",
    "\n",
    "map_chain.invoke({\"city\": \"青岛\"})"
   ]
  },
  {
   "cell_type": "code",
   "execution_count": null,
   "id": "e4bf5068",
   "metadata": {},
   "outputs": [],
   "source": []
  }
 ],
 "metadata": {
  "kernelspec": {
   "display_name": "book",
   "language": "python",
   "name": "book"
  },
  "language_info": {
   "codemirror_mode": {
    "name": "ipython",
    "version": 3
   },
   "file_extension": ".py",
   "mimetype": "text/x-python",
   "name": "python",
   "nbconvert_exporter": "python",
   "pygments_lexer": "ipython3",
   "version": "3.11.5"
  }
 },
 "nbformat": 4,
 "nbformat_minor": 5
}
