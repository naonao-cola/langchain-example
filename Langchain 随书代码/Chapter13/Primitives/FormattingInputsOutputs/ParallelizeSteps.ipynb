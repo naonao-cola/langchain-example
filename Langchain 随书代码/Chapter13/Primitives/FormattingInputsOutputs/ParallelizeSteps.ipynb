{
 "cells": [
  {
   "cell_type": "code",
   "execution_count": 4,
   "id": "ec178fbf",
   "metadata": {},
   "outputs": [
    {
     "data": {
      "text/plain": [
       "{'food': AIMessage(content='青岛是中国山东省的一个沿海城市，位于山东半岛东南部。以下是一些青岛地区的美食推荐：\\n\\n1. 炖锅海鲜：青岛作为海洋资源丰富的地区，有很多以海鲜为特色的餐厅。例如，“蓝山渔港”、“海岸人家”等餐厅以其独特的海鲜炖锅而闻名。\\n\\n2. 鱼糕：鱼糕是青岛地区的传统小吃，主要由海鱼、面粉等原料制成。鱼糕口感细腻，味道鲜美，深受当地人喜爱。\\n\\n3. 炖牛肉面：炖牛肉面是青岛地区的一道特色美食。炖牛肉面选用新鲜的牛腩、面条和香料等原料制作而成。炖牛肉面的味道醇厚，肉质鲜嫩，面条筋道，香气扑鼻，让人回味无穷。\\n\\n以上就是青岛地区的几款美食推荐，每一道菜品都有其独特的风味和烹饪技巧，让游客在品尝美食的同时，也能感受到青岛这座城市的魅力和特色。\\n\\n', response_metadata={'model': 'qwen:1.8b', 'created_at': '2024-04-09T00:48:34.8325366Z', 'message': {'role': 'assistant', 'content': ''}, 'done': True, 'total_duration': 1551289000, 'load_duration': 1008400, 'prompt_eval_count': 7, 'prompt_eval_duration': 13086000, 'eval_count': 204, 'eval_duration': 1536586000}, id='run-4b9b6938-64b6-45a7-b3ca-48c4dc9a9d12-0'),\n",
       " 'industry': AIMessage(content='青岛位于中国东部沿海地区，拥有多个发达的产业。\\n\\n1. 海洋产业：青岛是中国重要的海洋港口之一，拥有多家大型海洋设备制造企业。此外，青岛还大力发展海洋旅游产业，打造了“海上明珠”、“中国第一海港城市”等品牌和称号。\\n\\n2. 钢铁产业：青岛拥有大量的钢铁生产企业，如中钢集团、宝钢集团、山东钢铁集团等。这些企业在生产过程中会产生大量的废渣和废水，对当地的生态环境产生了重大影响。\\n\\n3. 电子信息产业：青岛是中国重要的电子信息产业基地之一，拥有多家大型电子信息设备制造企业，如华为技术有限公司、海尔智家股份有限公司、青岛海信电器股份有限公司等。这些企业在生产过程中产生的废渣和废水会对当地的环境造成污染。\\n\\n4. 生物医药产业：青岛是中国生物医药产业的重要基地之一，拥有多家大型生物医药设备制造企业，如华药集团有限公司、山东莱茵生命制药股份有限公司等。这些企业在生产过程中产生的废渣和废水会对当地的环境造成污染。\\n\\n5. 环保机械产业：青岛是中国环保机械产业的重要基地之一，拥有多家大型环保机械设备制造企业，如山东瑞源热电股份有限公司、山东龙工集团有限公司、青岛海尔电器股份有限公司等。这些企业在生产过程中产生的废渣和废水会对当地的环境造成污染。\\n\\n综上所述，青岛是中国重要的海洋港口城市、钢铁产业基地和生物医药产业基地之一，拥有众多大型产业企业和产业集群，对中国的经济社会发展做出了重大贡献。\\n\\n', response_metadata={'model': 'qwen:1.8b', 'created_at': '2024-04-09T00:48:33.2812476Z', 'message': {'role': 'assistant', 'content': ''}, 'done': True, 'total_duration': 5639579500, 'load_duration': 3086940200, 'prompt_eval_count': 16, 'prompt_eval_duration': 34709000, 'eval_count': 324, 'eval_duration': 2517280000}, id='run-aacd7efd-01ee-4987-9ed8-88dde41ba811-0')}"
      ]
     },
     "execution_count": 4,
     "metadata": {},
     "output_type": "execute_result"
    }
   ],
   "source": [
    "from langchain_community.chat_models import ChatOllama\n",
    "from langchain_community.embeddings import OllamaEmbeddings\n",
    "from langchain_core.prompts import ChatPromptTemplate\n",
    "from langchain_core.runnables import RunnableParallel\n",
    "model = ChatOllama(model=\"qwen:1.8b\")\n",
    "\n",
    "food_chain = ChatPromptTemplate.from_template(\"告诉我 {city} 有什么好吃的\") | model\n",
    "industry_chain = (\n",
    "    ChatPromptTemplate.from_template(\"告诉我 {city} 有什么产业\") | model\n",
    ")\n",
    "\n",
    "map_chain = RunnableParallel(food=food_chain, industry=industry_chain)\n",
    "\n",
    "map_chain.invoke({\"city\": \"青岛\"})"
   ]
  },
  {
   "cell_type": "code",
   "execution_count": null,
   "id": "e4bf5068",
   "metadata": {},
   "outputs": [],
   "source": []
  }
 ],
 "metadata": {
  "kernelspec": {
   "display_name": "book",
   "language": "python",
   "name": "book"
  },
  "language_info": {
   "codemirror_mode": {
    "name": "ipython",
    "version": 3
   },
   "file_extension": ".py",
   "mimetype": "text/x-python",
   "name": "python",
   "nbconvert_exporter": "python",
   "pygments_lexer": "ipython3",
   "version": "3.11.5"
  }
 },
 "nbformat": 4,
 "nbformat_minor": 5
}
