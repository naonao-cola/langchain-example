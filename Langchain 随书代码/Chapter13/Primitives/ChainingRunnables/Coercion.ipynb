{
 "cells": [
  {
   "cell_type": "code",
   "execution_count": 2,
   "id": "a5b945d7",
   "metadata": {},
   "outputs": [
    {
     "data": {
      "text/plain": [
       "'这个三天的青岛之旅规划合理，能够给家庭成员提供丰富的旅行体验。\\n\\n第一天：\\n早上，早班火车将三口之家从家乡赶往青岛市。在这个旅程中，家庭成员可以欣赏到青岛市的壮丽景色和独特的民俗文化。\\n\\n中午：在青岛市区内的酒店享用午餐，可以选择品尝青岛市的特色美食，如烧烤、海鲜等。\\n\\n晚上：在青岛市区内的一家五星级酒店享受晚餐，选择一个安静舒适的餐厅环境，享用由专业厨师精心烹制的高级西餐美食。\\n\\n这个三天的青岛之旅规划合理，能够为家庭成员提供丰富的旅行体验。从早班火车的赶往青岛，到酒店的用餐和休息，再到五星级酒店的晚餐和休息，整个旅程中，家庭成员可以充分了解和欣赏青岛市的美景和民俗文化，从而享受到一次丰富多采的青岛之旅。\\n'"
      ]
     },
     "execution_count": 2,
     "metadata": {},
     "output_type": "execute_result"
    }
   ],
   "source": [
    "from langchain_community.chat_models import ChatOllama\n",
    "from langchain_core.output_parsers import StrOutputParser\n",
    "from langchain_core.prompts import ChatPromptTemplate\n",
    "model = ChatOllama(model=\"qwen:1.8b\")\n",
    "\n",
    "prompt = ChatPromptTemplate.from_template(\"规划一个3口之家五一去{city}旅游的行程\")\n",
    "\n",
    "chain = prompt | model | StrOutputParser()\n",
    "\n",
    "\n",
    "from langchain_core.output_parsers import StrOutputParser\n",
    "\n",
    "analysis_prompt = ChatPromptTemplate.from_template(\"这个旅程规划合理吗? {journey}\")\n",
    "\n",
    "composed_chain = {\"journey\": chain} | analysis_prompt | model | StrOutputParser()\n",
    "composed_chain.invoke({\"city\": \"青岛\"})"
   ]
  },
  {
   "cell_type": "code",
   "execution_count": null,
   "id": "55255f18",
   "metadata": {},
   "outputs": [],
   "source": []
  }
 ],
 "metadata": {
  "kernelspec": {
   "display_name": "Python 3 (ipykernel)",
   "language": "python",
   "name": "python3"
  },
  "language_info": {
   "codemirror_mode": {
    "name": "ipython",
    "version": 3
   },
   "file_extension": ".py",
   "mimetype": "text/x-python",
   "name": "python",
   "nbconvert_exporter": "python",
   "pygments_lexer": "ipython3",
   "version": "3.11.5"
  }
 },
 "nbformat": 4,
 "nbformat_minor": 5
}
