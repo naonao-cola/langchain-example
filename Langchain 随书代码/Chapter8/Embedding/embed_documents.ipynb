{
 "cells": [
  {
   "cell_type": "code",
   "execution_count": 5,
   "id": "87e81015",
   "metadata": {},
   "outputs": [
    {
     "data": {
      "text/plain": [
       "[0.016160309314727783,\n",
       " -0.788278341293335,\n",
       " -2.368569850921631,\n",
       " 0.004938770085573196,\n",
       " 0.5553507804870605]"
      ]
     },
     "execution_count": 5,
     "metadata": {},
     "output_type": "execute_result"
    }
   ],
   "source": [
    "from langchain_community.embeddings import OllamaEmbeddings\n",
    "\n",
    "embeddings_model = OllamaEmbeddings(model=\"nomic-embed-text\")\n",
    "\n",
    "embeddings = embeddings_model.embed_documents(\n",
    "    [\n",
    "        \"嗨\",\n",
    "        \"你好\",\n",
    "        \"你叫什么名字?\",\n",
    "        \"我朋友喊我二狗\",\n",
    "    ]\n",
    ")\n",
    "len(embeddings), len(embeddings[0])\n",
    "\n",
    "embedded_query = embeddings_model.embed_query(\"在这个对话中提到了什么名字?\")\n",
    "embedded_query[:5]"
   ]
  },
  {
   "cell_type": "code",
   "execution_count": null,
   "id": "13ad93fc",
   "metadata": {},
   "outputs": [],
   "source": []
  }
 ],
 "metadata": {
  "kernelspec": {
   "display_name": "book",
   "language": "python",
   "name": "book"
  },
  "language_info": {
   "codemirror_mode": {
    "name": "ipython",
    "version": 3
   },
   "file_extension": ".py",
   "mimetype": "text/x-python",
   "name": "python",
   "nbconvert_exporter": "python",
   "pygments_lexer": "ipython3",
   "version": "3.11.5"
  }
 },
 "nbformat": 4,
 "nbformat_minor": 5
}
