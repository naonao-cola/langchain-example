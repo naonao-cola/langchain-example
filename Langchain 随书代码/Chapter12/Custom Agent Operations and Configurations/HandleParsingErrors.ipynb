{
 "cells": [
  {
   "cell_type": "code",
   "execution_count": 9,
   "id": "6f210002",
   "metadata": {},
   "outputs": [
    {
     "ename": "AttributeError",
     "evalue": "'str' object has no attribute 'input_variables'",
     "output_type": "error",
     "traceback": [
      "\u001b[1;31m---------------------------------------------------------------------------\u001b[0m",
      "\u001b[1;31mAttributeError\u001b[0m                            Traceback (most recent call last)",
      "Cell \u001b[1;32mIn[9], line 29\u001b[0m\n\u001b[0;32m     10\u001b[0m prompt \u001b[38;5;241m=\u001b[39m\u001b[38;5;124m\"\"\"\u001b[39m\n\u001b[0;32m     11\u001b[0m \u001b[38;5;124m尽你所能回答以下问题。你可以使用以下工具：\u001b[39m\n\u001b[0;32m     12\u001b[0m \u001b[38;5;132;01m{tools}\u001b[39;00m\n\u001b[1;32m   (...)\u001b[0m\n\u001b[0;32m     24\u001b[0m \u001b[38;5;124m思考：\u001b[39m\u001b[38;5;132;01m{agent_scratchpad}\u001b[39;00m\n\u001b[0;32m     25\u001b[0m \u001b[38;5;124m\"\"\"\u001b[39m\n\u001b[0;32m     27\u001b[0m llm \u001b[38;5;241m=\u001b[39m  ChatOllama(model\u001b[38;5;241m=\u001b[39m\u001b[38;5;124m\"\u001b[39m\u001b[38;5;124mqwen:1.8b\u001b[39m\u001b[38;5;124m\"\u001b[39m)\n\u001b[1;32m---> 29\u001b[0m agent \u001b[38;5;241m=\u001b[39m create_react_agent(llm, tools, prompt)\n",
      "File \u001b[1;32mG:\\Program Files\\anaconda3\\Lib\\site-packages\\langchain\\agents\\react\\agent.py:111\u001b[0m, in \u001b[0;36mcreate_react_agent\u001b[1;34m(llm, tools, prompt, output_parser, tools_renderer, stop_sequence)\u001b[0m\n\u001b[0;32m     16\u001b[0m \u001b[38;5;28;01mdef\u001b[39;00m \u001b[38;5;21mcreate_react_agent\u001b[39m(\n\u001b[0;32m     17\u001b[0m     llm: BaseLanguageModel,\n\u001b[0;32m     18\u001b[0m     tools: Sequence[BaseTool],\n\u001b[1;32m   (...)\u001b[0m\n\u001b[0;32m     23\u001b[0m     stop_sequence: Union[\u001b[38;5;28mbool\u001b[39m, List[\u001b[38;5;28mstr\u001b[39m]] \u001b[38;5;241m=\u001b[39m \u001b[38;5;28;01mTrue\u001b[39;00m,\n\u001b[0;32m     24\u001b[0m ) \u001b[38;5;241m-\u001b[39m\u001b[38;5;241m>\u001b[39m Runnable:\n\u001b[0;32m     25\u001b[0m \u001b[38;5;250m    \u001b[39m\u001b[38;5;124;03m\"\"\"Create an agent that uses ReAct prompting.\u001b[39;00m\n\u001b[0;32m     26\u001b[0m \n\u001b[0;32m     27\u001b[0m \u001b[38;5;124;03m    Args:\u001b[39;00m\n\u001b[1;32m   (...)\u001b[0m\n\u001b[0;32m    108\u001b[0m \u001b[38;5;124;03m            prompt = PromptTemplate.from_template(template)\u001b[39;00m\n\u001b[0;32m    109\u001b[0m \u001b[38;5;124;03m    \"\"\"\u001b[39;00m  \u001b[38;5;66;03m# noqa: E501\u001b[39;00m\n\u001b[0;32m    110\u001b[0m     missing_vars \u001b[38;5;241m=\u001b[39m {\u001b[38;5;124m\"\u001b[39m\u001b[38;5;124mtools\u001b[39m\u001b[38;5;124m\"\u001b[39m, \u001b[38;5;124m\"\u001b[39m\u001b[38;5;124mtool_names\u001b[39m\u001b[38;5;124m\"\u001b[39m, \u001b[38;5;124m\"\u001b[39m\u001b[38;5;124magent_scratchpad\u001b[39m\u001b[38;5;124m\"\u001b[39m}\u001b[38;5;241m.\u001b[39mdifference(\n\u001b[1;32m--> 111\u001b[0m         prompt\u001b[38;5;241m.\u001b[39minput_variables\n\u001b[0;32m    112\u001b[0m     )\n\u001b[0;32m    113\u001b[0m     \u001b[38;5;28;01mif\u001b[39;00m missing_vars:\n\u001b[0;32m    114\u001b[0m         \u001b[38;5;28;01mraise\u001b[39;00m \u001b[38;5;167;01mValueError\u001b[39;00m(\u001b[38;5;124mf\u001b[39m\u001b[38;5;124m\"\u001b[39m\u001b[38;5;124mPrompt missing required variables: \u001b[39m\u001b[38;5;132;01m{\u001b[39;00mmissing_vars\u001b[38;5;132;01m}\u001b[39;00m\u001b[38;5;124m\"\u001b[39m)\n",
      "\u001b[1;31mAttributeError\u001b[0m: 'str' object has no attribute 'input_variables'"
     ]
    }
   ],
   "source": [
    "from langchain_community.chat_models import ChatOllama\n",
    "from langchain.agents import AgentExecutor, create_react_agent\n",
    "from langchain_community.tools import WikipediaQueryRun\n",
    "from langchain_community.utilities import WikipediaAPIWrapper\n",
    "\n",
    "api_wrapper = WikipediaAPIWrapper(top_k_results=1, doc_content_chars_max=100)\n",
    "tool = WikipediaQueryRun(api_wrapper=api_wrapper)\n",
    "tools = [tool]\n",
    "\n",
    "prompt =\"\"\"\n",
    "尽你所能回答以下问题。你可以使用以下工具：\n",
    "{tools}\n",
    "请按照以下格式操作：\n",
    "问题：你需要回答的问题\n",
    "思考：你应该始终思考应该做什么\n",
    "行动：需要采取的行动，应该是[{tool_names}]其中之一\n",
    "行动输入：行动的输入\n",
    "观察：行动的结果\n",
    "...（这种思考/行动/行动输入/观察的过程可以重复N次）\n",
    "思考：我现在知道最终答案了\n",
    "最终答案：对原始输入问题的最终答案\n",
    "开始！\n",
    "问题：{input}\n",
    "思考：{agent_scratchpad}\n",
    "\"\"\"\n",
    "\n",
    "llm =  ChatOllama(model=\"qwen:1.8b\")\n",
    "\n",
    "agent = create_react_agent(llm, tools, prompt)"
   ]
  },
  {
   "cell_type": "code",
   "execution_count": 8,
   "id": "f1be807e",
   "metadata": {
    "scrolled": true
   },
   "outputs": [
    {
     "name": "stdout",
     "output_type": "stream",
     "text": [
      "\n",
      "\n",
      "\u001b[1m> Entering new AgentExecutor chain...\u001b[0m\n",
      "\u001b[32;1m\u001b[1;3m 我会使用Wikipedia工具来搜索利奥·迪卡普里奥的中间名。\n",
      "Action Input: \"利奥·迪卡普里奥的中间名\u001b[0mInvalid Format: Missing 'Action:' after 'Thought:\u001b[32;1m\u001b[1;3m我已从Wikipedia中获取了利奥·迪卡普里奥的中间名。\n",
      "\n",
      "Final Answer: 利奥·迪卡普里奥的中间名是 \"Giovanni Battista\" 或者 \"Giorgio Marconi\"。\u001b[0m\n",
      "\n",
      "\u001b[1m> Finished chain.\u001b[0m\n"
     ]
    },
    {
     "data": {
      "text/plain": [
       "{'input': '利奥·迪卡普里奥的中间名是什么？\\n\\nAction: Wikipedia',\n",
       " 'output': '利奥·迪卡普里奥的中间名是 \"Giovanni Battista\" 或者 \"Giorgio Marconi\"。'}"
      ]
     },
     "execution_count": 8,
     "metadata": {},
     "output_type": "execute_result"
    }
   ],
   "source": [
    "agent_executor = AgentExecutor(agent=agent, tools=tools, verbose=True,handle_parsing_errors=True)\n",
    "\n",
    "agent_executor.invoke(\n",
    "    {\"input\": \"利奥·迪卡普里奥的中间名是什么？\\n\\nAction: Wikipedia\"}\n",
    ")"
   ]
  },
  {
   "cell_type": "code",
   "execution_count": null,
   "id": "8979afcb",
   "metadata": {},
   "outputs": [],
   "source": []
  }
 ],
 "metadata": {
  "kernelspec": {
   "display_name": "book",
   "language": "python",
   "name": "book"
  },
  "language_info": {
   "codemirror_mode": {
    "name": "ipython",
    "version": 3
   },
   "file_extension": ".py",
   "mimetype": "text/x-python",
   "name": "python",
   "nbconvert_exporter": "python",
   "pygments_lexer": "ipython3",
   "version": "3.11.5"
  }
 },
 "nbformat": 4,
 "nbformat_minor": 5
}
