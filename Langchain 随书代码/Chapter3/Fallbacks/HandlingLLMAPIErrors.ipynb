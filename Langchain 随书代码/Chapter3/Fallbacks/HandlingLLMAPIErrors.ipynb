{
 "cells": [
  {
   "cell_type": "code",
   "execution_count": 25,
   "id": "46a5ffa8",
   "metadata": {},
   "outputs": [],
   "source": [
    "from langchain_community.chat_models import ChatOllama\n",
    "from langchain_openai import ChatOpenAI\n",
    "from unittest.mock import patch\n",
    "import httpx\n",
    "from openai import RateLimitError"
   ]
  },
  {
   "cell_type": "code",
   "execution_count": null,
   "id": "679f071d",
   "metadata": {},
   "outputs": [],
   "source": [
    "request = httpx.Request(\"GET\", \"/\")\n",
    "response = httpx.Response(200, request=request)\n",
    "error = RateLimitError(\"rate limit\", response=response, body=\"\")"
   ]
  },
  {
   "cell_type": "code",
   "execution_count": 26,
   "id": "8fd799e0",
   "metadata": {},
   "outputs": [],
   "source": [
    "# we set max_retries = 0 to avoid retrying on RateLimits, etc\n",
    "# 将 max_retries 设置为 0，以避免对 RateLimits 等进行重试\n",
    "openai_llm = ChatOpenAI(max_retries=0)\n",
    "qwen_llm = ChatOllama(model=\"qwen:1.8b\")\n",
    "llm = openai_llm.with_fallbacks([qwen_llm])"
   ]
  },
  {
   "cell_type": "code",
   "execution_count": 28,
   "id": "cc4fbddc",
   "metadata": {},
   "outputs": [
    {
     "name": "stdout",
     "output_type": "stream",
     "text": [
      "遇到错误\n"
     ]
    }
   ],
   "source": [
    "# Let's use just the OpenAI LLm first, to show that we run into an error\n",
    "# 让我们先使用 OpenAI 的大型语言模型（LLM），来展示我们遇到的错误。\n",
    "with patch(\"openai.resources.chat.completions.Completions.create\", side_effect=error):\n",
    "    try:\n",
    "        print(openai_llm.invoke(\"你是谁？\"))\n",
    "    except RateLimitError:\n",
    "        print(\"遇到错误\")"
   ]
  },
  {
   "cell_type": "code",
   "execution_count": 18,
   "id": "0e64ee7b",
   "metadata": {},
   "outputs": [
    {
     "name": "stdout",
     "output_type": "stream",
     "text": [
      "content='我是来自阿里云的大规模语言模型，我叫通义千问。我可以回答各种问题，包括但不限于科技、文化、生活等方面的问题，帮助用户快速获取信息和解决问题。如果您有任何问题想要了解，请随时告诉我，我会尽力提供最准确的答案和帮助您解决问题。\\n' response_metadata={'model': 'qwen:1.8b', 'created_at': '2024-04-03T22:14:41.7210445Z', 'message': {'role': 'assistant', 'content': ''}, 'done': True, 'total_duration': 10855166400, 'load_duration': 10236569100, 'prompt_eval_count': 11, 'prompt_eval_duration': 101424000, 'eval_count': 62, 'eval_duration': 515002000} id='run-bf2a0a88-ca17-46c2-bf48-23d0c31e1476-0'\n"
     ]
    }
   ],
   "source": [
    "# Now let's try with fallbacks to qwen_llm\n",
    "# 现在让我们尝试使用 qwen_llm 作为备选方案\n",
    "with patch(\"openai.resources.chat.completions.Completions.create\", side_effect=error):\n",
    "    try:\n",
    "        print(llm.invoke(\"你是谁？\"))\n",
    "    except RateLimitError:\n",
    "        print(\"遇到错误\")"
   ]
  },
  {
   "cell_type": "markdown",
   "id": "9ef2db48",
   "metadata": {},
   "source": [
    "我们可以像使用普通大型语言模型（LLM）一样使用我们的“具有备选方案的大型语言模型（LLM with Fallbacks）”。"
   ]
  },
  {
   "cell_type": "code",
   "execution_count": 21,
   "id": "6ab1a37e",
   "metadata": {},
   "outputs": [
    {
     "name": "stdout",
     "output_type": "stream",
     "text": [
      "content='我喜欢利川的原因有很多。\\n\\n首先，利川位于中国湖北省东北部，地处武陵山区腹地。这种地理位置为利川带来了丰富的自然景观和人文资源。如长江、清江、仙女山等，这些自然景观和人文资源无疑成为了我喜爱利川的重要原因之一。\\n\\n其次，利川有着深厚的历史文化底蕴，是中华民族精神的象征。如利川的楚王城、利川的金瓜峰、利川的神农架等，这些历史文化遗产无疑为我的喜爱利川提供了重要的历史文化背景。\\n\\n综上所述，喜欢利川的原因有很多，包括其丰富的自然景观和人文资源，以及其深厚的历史文化底蕴等等。总之，作为一名来自利川的助手，我对利川有着深深的热爱和向往，我将尽我所能帮助利川的人们，让他们在利川享受到更多的幸福和快乐。\\n\\n' response_metadata={'model': 'qwen:1.8b', 'created_at': '2024-04-03T22:24:39.843922Z', 'message': {'role': 'assistant', 'content': ''}, 'done': True, 'total_duration': 1598917600, 'load_duration': 3479600, 'prompt_eval_count': 7, 'prompt_eval_duration': 151244000, 'eval_count': 183, 'eval_duration': 1441056000} id='run-b5377b4c-8148-4b67-9c7b-8d2f8715ab3c-0'\n"
     ]
    }
   ],
   "source": [
    "from langchain_core.prompts import ChatPromptTemplate\n",
    "\n",
    "prompt = ChatPromptTemplate.from_messages(\n",
    "    [\n",
    "        (\n",
    "            \"system\",\n",
    "            \"你真是一个贴心的助手，总会在回复中附上赞美之词。\",\n",
    "        ),\n",
    "        (\"human\", \"为什么你喜欢{city}\"),\n",
    "    ]\n",
    ")\n",
    "chain = prompt | llm\n",
    "with patch(\"openai.resources.chat.completions.Completions.create\", side_effect=error):\n",
    "    try:\n",
    "        print(chain.invoke({\"city\": \"利川\"}))\n",
    "    except RateLimitError:\n",
    "        print(\"Hit error\")"
   ]
  },
  {
   "cell_type": "code",
   "execution_count": null,
   "id": "fb5dbc43",
   "metadata": {},
   "outputs": [],
   "source": []
  }
 ],
 "metadata": {
  "kernelspec": {
   "display_name": "book",
   "language": "python",
   "name": "book"
  },
  "language_info": {
   "codemirror_mode": {
    "name": "ipython",
    "version": 3
   },
   "file_extension": ".py",
   "mimetype": "text/x-python",
   "name": "python",
   "nbconvert_exporter": "python",
   "pygments_lexer": "ipython3",
   "version": "3.11.5"
  }
 },
 "nbformat": 4,
 "nbformat_minor": 5
}
