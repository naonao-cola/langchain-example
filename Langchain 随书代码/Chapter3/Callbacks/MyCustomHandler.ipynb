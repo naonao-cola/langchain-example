{
 "cells": [
  {
   "cell_type": "code",
   "execution_count": 5,
   "id": "b60ad3aa",
   "metadata": {},
   "outputs": [
    {
     "name": "stdout",
     "output_type": "stream",
     "text": [
      "自定义回调处理器, token: 中国\n",
      "自定义回调处理器, token: 首\n",
      "自定义回调处理器, token: 都是\n",
      "自定义回调处理器, token: 北京市\n",
      "自定义回调处理器, token: 。\n",
      "自定义回调处理器, token: 北京市\n",
      "自定义回调处理器, token: 位于\n",
      "自定义回调处理器, token: 中国\n",
      "自定义回调处理器, token: 北部\n",
      "自定义回调处理器, token: ，\n",
      "自定义回调处理器, token: 是中国\n",
      "自定义回调处理器, token: 四大\n",
      "自定义回调处理器, token: 直辖市\n",
      "自定义回调处理器, token: 之一\n",
      "自定义回调处理器, token: ，\n",
      "自定义回调处理器, token: 也是\n",
      "自定义回调处理器, token: 中国\n",
      "自定义回调处理器, token: 政治\n",
      "自定义回调处理器, token: 、\n",
      "自定义回调处理器, token: 经济\n",
      "自定义回调处理器, token: 、\n",
      "自定义回调处理器, token: 文化\n",
      "自定义回调处理器, token: 、\n",
      "自定义回调处理器, token: 科技\n",
      "自定义回调处理器, token: 和\n",
      "自定义回调处理器, token: \n"
     ]
    },
    {
     "data": {
      "text/plain": [
       "AIMessage(content='中国首都是北京市。北京市位于中国北部，是中国四大直辖市之一，也是中国政治、经济、文化、科技和', response_metadata={'finish_reason': 'stop'}, id='run-58b24dfe-831e-4c86-b3d9-22b587de2378-0')"
      ]
     },
     "execution_count": 5,
     "metadata": {},
     "output_type": "execute_result"
    }
   ],
   "source": [
    "from langchain_core.callbacks import BaseCallbackHandler\n",
    "from langchain_core.messages import HumanMessage\n",
    "from langchain_openai import ChatOpenAI\n",
    "\n",
    "\n",
    "openai_api_key = \"EMPTY\"\n",
    "openai_api_base = \"http://localhost:11434/v1\"\n",
    "class MyCustomHandler(BaseCallbackHandler):\n",
    "    def on_llm_new_token(self, token: str, **kwargs) -> None:\n",
    "        print(f\"自定义回调处理器, token: {token}\")\n",
    "\n",
    "chat = ChatOpenAI(max_tokens=25, streaming=True,openai_api_key = openai_api_key,openai_api_base = openai_api_base,\n",
    "  callbacks=[MyCustomHandler()])\n",
    "\n",
    "chat([HumanMessage(content=\"中国首都是？\")])"
   ]
  },
  {
   "cell_type": "code",
   "execution_count": null,
   "id": "fcabddf0",
   "metadata": {},
   "outputs": [],
   "source": []
  }
 ],
 "metadata": {
  "kernelspec": {
   "display_name": "book",
   "language": "python",
   "name": "book"
  },
  "language_info": {
   "codemirror_mode": {
    "name": "ipython",
    "version": 3
   },
   "file_extension": ".py",
   "mimetype": "text/x-python",
   "name": "python",
   "nbconvert_exporter": "python",
   "pygments_lexer": "ipython3",
   "version": "3.11.5"
  }
 },
 "nbformat": 4,
 "nbformat_minor": 5
}
