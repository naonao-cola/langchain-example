{
 "cells": [
  {
   "cell_type": "code",
   "execution_count": 19,
   "id": "e05c609a",
   "metadata": {},
   "outputs": [],
   "source": [
    "from langchain.prompts import PromptTemplate\n",
    "from  langchain_openai import OpenAI\n",
    "from langchain.chains import LLMChain\n",
    "\n",
    "openai_api_key = \"EMPTY\"\n",
    "openai_api_base = \"http://localhost:11434/v1\"\n",
    "prompt = PromptTemplate(\n",
    "    input_variables=[\"city\"],\n",
    "    template=\" {city}的特产是什么 ?\",\n",
    ")\n",
    "llm = OpenAI(\n",
    "    openai_api_key = openai_api_key, \n",
    "    openai_api_base = openai_api_base,\n",
    "    temperature=0 )"
   ]
  },
  {
   "cell_type": "code",
   "execution_count": 22,
   "id": "57d0c614",
   "metadata": {},
   "outputs": [],
   "source": [
    "chain = LLMChain(llm=llm, prompt=prompt, verbose=True)\n",
    "\n",
    "chain.save(\"llm_chain.json\")\n",
    "chain.prompt.save(\"prompt.json\")\n",
    "chain.llm.save(\"llm.json\")"
   ]
  },
  {
   "cell_type": "code",
   "execution_count": null,
   "id": "dd4a31cc",
   "metadata": {},
   "outputs": [],
   "source": []
  }
 ],
 "metadata": {
  "kernelspec": {
   "display_name": "book",
   "language": "python",
   "name": "book"
  },
  "language_info": {
   "codemirror_mode": {
    "name": "ipython",
    "version": 3
   },
   "file_extension": ".py",
   "mimetype": "text/x-python",
   "name": "python",
   "nbconvert_exporter": "python",
   "pygments_lexer": "ipython3",
   "version": "3.11.5"
  }
 },
 "nbformat": 4,
 "nbformat_minor": 5
}
