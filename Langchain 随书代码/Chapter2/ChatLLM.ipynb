{
 "cells": [
  {
   "cell_type": "code",
   "execution_count": 1,
   "id": "4d29e774",
   "metadata": {},
   "outputs": [],
   "source": [
    "from langchain_community.chat_models import ChatOllama\n",
    "chat = ChatOllama(model=\"qwen:1.8b\")\n",
    " \n",
    "from langchain.prompts.chat import (\n",
    "    ChatPromptTemplate,\n",
    "    SystemMessagePromptTemplate,\n",
    "    HumanMessagePromptTemplate,\n",
    ")"
   ]
  },
  {
   "cell_type": "code",
   "execution_count": 2,
   "id": "e7a05c68",
   "metadata": {},
   "outputs": [],
   "source": [
    "template = \"你是一个翻译助理 ,请将用户输入的内容由{input_language}直接翻译为{output_language}.\"\n",
    "system_message_prompt = SystemMessagePromptTemplate.from_template(template)\n",
    "human_template = \"{text}\"\n",
    "human_message_prompt = HumanMessagePromptTemplate.from_template(human_template)\n",
    "\n",
    "chat_prompt = ChatPromptTemplate.from_messages([system_message_prompt, human_message_prompt])"
   ]
  },
  {
   "cell_type": "code",
   "execution_count": 3,
   "id": "c1790605",
   "metadata": {},
   "outputs": [
    {
     "data": {
      "text/plain": [
       "AIMessage(content='人工智能（AI）将在未来几年对人类文明产生深远影响。\\n', response_metadata={'model': 'qwen:1.8b', 'created_at': '2024-04-02T23:04:34.1020459Z', 'message': {'role': 'assistant', 'content': ''}, 'done': True, 'total_duration': 465411500, 'load_duration': 20884100, 'prompt_eval_count': 48, 'prompt_eval_duration': 323394000, 'eval_count': 17, 'eval_duration': 120421000}, id='run-5eadf05a-d2df-415b-aada-6bad9543040c-0')"
      ]
     },
     "execution_count": 3,
     "metadata": {},
     "output_type": "execute_result"
    }
   ],
   "source": [
    "chat.invoke(chat_prompt.format_prompt(input_language=\"英语\", output_language=\"中文\",\n",
    "                 text=\"Artificial Intelligence (AI) will have a profound impact on human civilization in the coming years. \").to_messages())"
   ]
  },
  {
   "cell_type": "code",
   "execution_count": null,
   "id": "99f9c38a",
   "metadata": {},
   "outputs": [],
   "source": []
  }
 ],
 "metadata": {
  "kernelspec": {
   "display_name": "book",
   "language": "python",
   "name": "book"
  },
  "language_info": {
   "codemirror_mode": {
    "name": "ipython",
    "version": 3
   },
   "file_extension": ".py",
   "mimetype": "text/x-python",
   "name": "python",
   "nbconvert_exporter": "python",
   "pygments_lexer": "ipython3",
   "version": "3.11.5"
  }
 },
 "nbformat": 4,
 "nbformat_minor": 5
}
